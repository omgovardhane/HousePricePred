{
 "cells": [
  {
   "cell_type": "markdown",
   "id": "37af21bb",
   "metadata": {
    "papermill": {
     "duration": 0.043777,
     "end_time": "2022-01-07T14:52:22.488178",
     "exception": false,
     "start_time": "2022-01-07T14:52:22.444401",
     "status": "completed"
    },
    "tags": []
   },
   "source": [
    "<center><h1 style=\"font-size:35px; font-family: 'Times New Roman'; letter-spacing: 0.1em;\">House Price Prediction 🏡</h1></center>"
   ]
  },
  {
   "cell_type": "code",
   "execution_count": 1,
   "id": "95c209dd",
   "metadata": {},
   "outputs": [],
   "source": [
    "import pymongo\n",
    "import pandas as pd\n",
    "from pymongo import MongoClient\n",
    "import warnings\n",
    "warnings.filterwarnings(\"ignore\", category=Warning)"
   ]
  },
  {
   "cell_type": "markdown",
   "id": "bc72db7d",
   "metadata": {},
   "source": [
    "# Reading data from Mongodb"
   ]
  },
  {
   "cell_type": "code",
   "execution_count": 2,
   "id": "2dbf69de",
   "metadata": {},
   "outputs": [],
   "source": [
    "#point the client at mongo URI\n",
    "client = pymongo.MongoClient(\"mongodb://localhost:27017/\")\n",
    "\n",
    "#select database\n",
    "db = client[\"HPP\"]\n",
    "\n",
    "#select the collection within the database\n",
    "x =db[\"Traindata\"].find()"
   ]
  },
  {
   "cell_type": "code",
   "execution_count": 3,
   "id": "4a7d7233",
   "metadata": {},
   "outputs": [
    {
     "data": {
      "text/html": [
       "<div>\n",
       "<style scoped>\n",
       "    .dataframe tbody tr th:only-of-type {\n",
       "        vertical-align: middle;\n",
       "    }\n",
       "\n",
       "    .dataframe tbody tr th {\n",
       "        vertical-align: top;\n",
       "    }\n",
       "\n",
       "    .dataframe thead th {\n",
       "        text-align: right;\n",
       "    }\n",
       "</style>\n",
       "<table border=\"1\" class=\"dataframe\">\n",
       "  <thead>\n",
       "    <tr style=\"text-align: right;\">\n",
       "      <th></th>\n",
       "      <th>_id</th>\n",
       "      <th>Id</th>\n",
       "      <th>MSSubClass</th>\n",
       "      <th>MSZoning</th>\n",
       "      <th>LotFrontage</th>\n",
       "      <th>LotArea</th>\n",
       "      <th>Street</th>\n",
       "      <th>Alley</th>\n",
       "      <th>LotShape</th>\n",
       "      <th>LandContour</th>\n",
       "      <th>...</th>\n",
       "      <th>PoolArea</th>\n",
       "      <th>PoolQC</th>\n",
       "      <th>Fence</th>\n",
       "      <th>MiscFeature</th>\n",
       "      <th>MiscVal</th>\n",
       "      <th>MoSold</th>\n",
       "      <th>YrSold</th>\n",
       "      <th>SaleType</th>\n",
       "      <th>SaleCondition</th>\n",
       "      <th>SalePrice</th>\n",
       "    </tr>\n",
       "  </thead>\n",
       "  <tbody>\n",
       "    <tr>\n",
       "      <th>0</th>\n",
       "      <td>624618bf4c76ee013edaa505</td>\n",
       "      <td>1</td>\n",
       "      <td>60</td>\n",
       "      <td>RL</td>\n",
       "      <td>65</td>\n",
       "      <td>8450</td>\n",
       "      <td>Pave</td>\n",
       "      <td>NA</td>\n",
       "      <td>Reg</td>\n",
       "      <td>Lvl</td>\n",
       "      <td>...</td>\n",
       "      <td>0</td>\n",
       "      <td>NA</td>\n",
       "      <td>NA</td>\n",
       "      <td>NA</td>\n",
       "      <td>0</td>\n",
       "      <td>2</td>\n",
       "      <td>2008</td>\n",
       "      <td>WD</td>\n",
       "      <td>Normal</td>\n",
       "      <td>208500</td>\n",
       "    </tr>\n",
       "    <tr>\n",
       "      <th>1</th>\n",
       "      <td>624618bf4c76ee013edaa506</td>\n",
       "      <td>2</td>\n",
       "      <td>20</td>\n",
       "      <td>RL</td>\n",
       "      <td>80</td>\n",
       "      <td>9600</td>\n",
       "      <td>Pave</td>\n",
       "      <td>NA</td>\n",
       "      <td>Reg</td>\n",
       "      <td>Lvl</td>\n",
       "      <td>...</td>\n",
       "      <td>0</td>\n",
       "      <td>NA</td>\n",
       "      <td>NA</td>\n",
       "      <td>NA</td>\n",
       "      <td>0</td>\n",
       "      <td>5</td>\n",
       "      <td>2007</td>\n",
       "      <td>WD</td>\n",
       "      <td>Normal</td>\n",
       "      <td>181500</td>\n",
       "    </tr>\n",
       "    <tr>\n",
       "      <th>2</th>\n",
       "      <td>624618bf4c76ee013edaa507</td>\n",
       "      <td>3</td>\n",
       "      <td>60</td>\n",
       "      <td>RL</td>\n",
       "      <td>68</td>\n",
       "      <td>11250</td>\n",
       "      <td>Pave</td>\n",
       "      <td>NA</td>\n",
       "      <td>IR1</td>\n",
       "      <td>Lvl</td>\n",
       "      <td>...</td>\n",
       "      <td>0</td>\n",
       "      <td>NA</td>\n",
       "      <td>NA</td>\n",
       "      <td>NA</td>\n",
       "      <td>0</td>\n",
       "      <td>9</td>\n",
       "      <td>2008</td>\n",
       "      <td>WD</td>\n",
       "      <td>Normal</td>\n",
       "      <td>223500</td>\n",
       "    </tr>\n",
       "    <tr>\n",
       "      <th>3</th>\n",
       "      <td>624618bf4c76ee013edaa508</td>\n",
       "      <td>4</td>\n",
       "      <td>70</td>\n",
       "      <td>RL</td>\n",
       "      <td>60</td>\n",
       "      <td>9550</td>\n",
       "      <td>Pave</td>\n",
       "      <td>NA</td>\n",
       "      <td>IR1</td>\n",
       "      <td>Lvl</td>\n",
       "      <td>...</td>\n",
       "      <td>0</td>\n",
       "      <td>NA</td>\n",
       "      <td>NA</td>\n",
       "      <td>NA</td>\n",
       "      <td>0</td>\n",
       "      <td>2</td>\n",
       "      <td>2006</td>\n",
       "      <td>WD</td>\n",
       "      <td>Abnorml</td>\n",
       "      <td>140000</td>\n",
       "    </tr>\n",
       "    <tr>\n",
       "      <th>4</th>\n",
       "      <td>624618bf4c76ee013edaa509</td>\n",
       "      <td>5</td>\n",
       "      <td>60</td>\n",
       "      <td>RL</td>\n",
       "      <td>84</td>\n",
       "      <td>14260</td>\n",
       "      <td>Pave</td>\n",
       "      <td>NA</td>\n",
       "      <td>IR1</td>\n",
       "      <td>Lvl</td>\n",
       "      <td>...</td>\n",
       "      <td>0</td>\n",
       "      <td>NA</td>\n",
       "      <td>NA</td>\n",
       "      <td>NA</td>\n",
       "      <td>0</td>\n",
       "      <td>12</td>\n",
       "      <td>2008</td>\n",
       "      <td>WD</td>\n",
       "      <td>Normal</td>\n",
       "      <td>250000</td>\n",
       "    </tr>\n",
       "  </tbody>\n",
       "</table>\n",
       "<p>5 rows × 82 columns</p>\n",
       "</div>"
      ],
      "text/plain": [
       "                        _id  Id  MSSubClass MSZoning LotFrontage  LotArea  \\\n",
       "0  624618bf4c76ee013edaa505   1          60       RL          65     8450   \n",
       "1  624618bf4c76ee013edaa506   2          20       RL          80     9600   \n",
       "2  624618bf4c76ee013edaa507   3          60       RL          68    11250   \n",
       "3  624618bf4c76ee013edaa508   4          70       RL          60     9550   \n",
       "4  624618bf4c76ee013edaa509   5          60       RL          84    14260   \n",
       "\n",
       "  Street Alley LotShape LandContour  ... PoolArea PoolQC Fence MiscFeature  \\\n",
       "0   Pave    NA      Reg         Lvl  ...        0     NA    NA          NA   \n",
       "1   Pave    NA      Reg         Lvl  ...        0     NA    NA          NA   \n",
       "2   Pave    NA      IR1         Lvl  ...        0     NA    NA          NA   \n",
       "3   Pave    NA      IR1         Lvl  ...        0     NA    NA          NA   \n",
       "4   Pave    NA      IR1         Lvl  ...        0     NA    NA          NA   \n",
       "\n",
       "  MiscVal MoSold YrSold SaleType  SaleCondition  SalePrice  \n",
       "0       0      2   2008       WD         Normal     208500  \n",
       "1       0      5   2007       WD         Normal     181500  \n",
       "2       0      9   2008       WD         Normal     223500  \n",
       "3       0      2   2006       WD        Abnorml     140000  \n",
       "4       0     12   2008       WD         Normal     250000  \n",
       "\n",
       "[5 rows x 82 columns]"
      ]
     },
     "execution_count": 3,
     "metadata": {},
     "output_type": "execute_result"
    }
   ],
   "source": [
    "#converting Collection into Pandas database\n",
    "Df=pd.DataFrame(x)\n",
    "Df.head()"
   ]
  },
  {
   "cell_type": "code",
   "execution_count": 4,
   "id": "f359c078",
   "metadata": {},
   "outputs": [],
   "source": [
    "df=Df.drop('_id',axis=1)"
   ]
  },
  {
   "cell_type": "code",
   "execution_count": 5,
   "id": "b6a1ec9b",
   "metadata": {},
   "outputs": [
    {
     "data": {
      "text/plain": [
       "(1460, 81)"
      ]
     },
     "execution_count": 5,
     "metadata": {},
     "output_type": "execute_result"
    }
   ],
   "source": [
    "df.shape"
   ]
  },
  {
   "cell_type": "markdown",
   "id": "6874a7d8",
   "metadata": {
    "papermill": {
     "duration": 0.042066,
     "end_time": "2022-01-07T14:52:22.827026",
     "exception": false,
     "start_time": "2022-01-07T14:52:22.784960",
     "status": "completed"
    },
    "tags": []
   },
   "source": [
    "<h1 style=\"font-family: 'Times New Roman'; letter-spacing: 0.08em;\">Importing the Essential Libraries, Metrics</h1>"
   ]
  },
  {
   "cell_type": "code",
   "execution_count": 6,
   "id": "5f6d09dc",
   "metadata": {
    "_cell_guid": "b1076dfc-b9ad-4769-8c92-a6c4dae69d19",
    "_uuid": "8f2839f25d086af736a60e9eeb907d3b93b6e0e5",
    "execution": {
     "iopub.execute_input": "2022-01-07T14:52:22.921022Z",
     "iopub.status.busy": "2022-01-07T14:52:22.919688Z",
     "iopub.status.idle": "2022-01-07T14:52:24.469036Z",
     "shell.execute_reply": "2022-01-07T14:52:24.468249Z",
     "shell.execute_reply.started": "2022-01-07T14:42:49.152057Z"
    },
    "papermill": {
     "duration": 1.598972,
     "end_time": "2022-01-07T14:52:24.469221",
     "exception": false,
     "start_time": "2022-01-07T14:52:22.870249",
     "status": "completed"
    },
    "tags": []
   },
   "outputs": [],
   "source": [
    "import numpy as np\n",
    "import pandas as pd\n",
    "import warnings\n",
    "warnings.filterwarnings(\"ignore\")\n",
    "\n",
    "from sklearn.model_selection import train_test_split, cross_val_score\n",
    "from sklearn.preprocessing import StandardScaler\n",
    "from sklearn.metrics import r2_score, mean_absolute_error, mean_squared_error\n",
    "\n",
    "from sklearn.model_selection import GridSearchCV,cross_val_score, KFold\n",
    "from sklearn.linear_model import LinearRegression\n",
    "from sklearn.linear_model import Ridge\n",
    "from sklearn.linear_model import Lasso\n",
    "from sklearn.linear_model import ElasticNet\n",
    "from sklearn.ensemble import RandomForestRegressor\n",
    "from sklearn.svm import SVR\n",
    "from xgboost import XGBRegressor"
   ]
  },
  {
   "cell_type": "markdown",
   "id": "41fd4bbb",
   "metadata": {
    "papermill": {
     "duration": 0.042834,
     "end_time": "2022-01-07T14:52:24.780980",
     "exception": false,
     "start_time": "2022-01-07T14:52:24.738146",
     "status": "completed"
    },
    "tags": []
   },
   "source": [
    "<h1 style=\"font-family: 'Times New Roman'; letter-spacing: 0.08em;\">Exploratory Data Analysis</h1>"
   ]
  },
  {
   "cell_type": "code",
   "execution_count": 7,
   "id": "2414310c",
   "metadata": {
    "execution": {
     "iopub.execute_input": "2022-01-07T14:52:24.956756Z",
     "iopub.status.busy": "2022-01-07T14:52:24.956054Z",
     "iopub.status.idle": "2022-01-07T14:52:24.997619Z",
     "shell.execute_reply": "2022-01-07T14:52:24.998140Z",
     "shell.execute_reply.started": "2022-01-07T14:42:49.217104Z"
    },
    "papermill": {
     "duration": 0.087441,
     "end_time": "2022-01-07T14:52:24.998345",
     "exception": false,
     "start_time": "2022-01-07T14:52:24.910904",
     "status": "completed"
    },
    "tags": []
   },
   "outputs": [
    {
     "data": {
      "text/html": [
       "<div>\n",
       "<style scoped>\n",
       "    .dataframe tbody tr th:only-of-type {\n",
       "        vertical-align: middle;\n",
       "    }\n",
       "\n",
       "    .dataframe tbody tr th {\n",
       "        vertical-align: top;\n",
       "    }\n",
       "\n",
       "    .dataframe thead th {\n",
       "        text-align: right;\n",
       "    }\n",
       "</style>\n",
       "<table border=\"1\" class=\"dataframe\">\n",
       "  <thead>\n",
       "    <tr style=\"text-align: right;\">\n",
       "      <th></th>\n",
       "      <th>Id</th>\n",
       "      <th>MSSubClass</th>\n",
       "      <th>MSZoning</th>\n",
       "      <th>LotFrontage</th>\n",
       "      <th>LotArea</th>\n",
       "      <th>Street</th>\n",
       "      <th>Alley</th>\n",
       "      <th>LotShape</th>\n",
       "      <th>LandContour</th>\n",
       "      <th>Utilities</th>\n",
       "      <th>...</th>\n",
       "      <th>PoolArea</th>\n",
       "      <th>PoolQC</th>\n",
       "      <th>Fence</th>\n",
       "      <th>MiscFeature</th>\n",
       "      <th>MiscVal</th>\n",
       "      <th>MoSold</th>\n",
       "      <th>YrSold</th>\n",
       "      <th>SaleType</th>\n",
       "      <th>SaleCondition</th>\n",
       "      <th>SalePrice</th>\n",
       "    </tr>\n",
       "  </thead>\n",
       "  <tbody>\n",
       "    <tr>\n",
       "      <th>0</th>\n",
       "      <td>1</td>\n",
       "      <td>60</td>\n",
       "      <td>RL</td>\n",
       "      <td>65</td>\n",
       "      <td>8450</td>\n",
       "      <td>Pave</td>\n",
       "      <td>NA</td>\n",
       "      <td>Reg</td>\n",
       "      <td>Lvl</td>\n",
       "      <td>AllPub</td>\n",
       "      <td>...</td>\n",
       "      <td>0</td>\n",
       "      <td>NA</td>\n",
       "      <td>NA</td>\n",
       "      <td>NA</td>\n",
       "      <td>0</td>\n",
       "      <td>2</td>\n",
       "      <td>2008</td>\n",
       "      <td>WD</td>\n",
       "      <td>Normal</td>\n",
       "      <td>208500</td>\n",
       "    </tr>\n",
       "    <tr>\n",
       "      <th>1</th>\n",
       "      <td>2</td>\n",
       "      <td>20</td>\n",
       "      <td>RL</td>\n",
       "      <td>80</td>\n",
       "      <td>9600</td>\n",
       "      <td>Pave</td>\n",
       "      <td>NA</td>\n",
       "      <td>Reg</td>\n",
       "      <td>Lvl</td>\n",
       "      <td>AllPub</td>\n",
       "      <td>...</td>\n",
       "      <td>0</td>\n",
       "      <td>NA</td>\n",
       "      <td>NA</td>\n",
       "      <td>NA</td>\n",
       "      <td>0</td>\n",
       "      <td>5</td>\n",
       "      <td>2007</td>\n",
       "      <td>WD</td>\n",
       "      <td>Normal</td>\n",
       "      <td>181500</td>\n",
       "    </tr>\n",
       "    <tr>\n",
       "      <th>2</th>\n",
       "      <td>3</td>\n",
       "      <td>60</td>\n",
       "      <td>RL</td>\n",
       "      <td>68</td>\n",
       "      <td>11250</td>\n",
       "      <td>Pave</td>\n",
       "      <td>NA</td>\n",
       "      <td>IR1</td>\n",
       "      <td>Lvl</td>\n",
       "      <td>AllPub</td>\n",
       "      <td>...</td>\n",
       "      <td>0</td>\n",
       "      <td>NA</td>\n",
       "      <td>NA</td>\n",
       "      <td>NA</td>\n",
       "      <td>0</td>\n",
       "      <td>9</td>\n",
       "      <td>2008</td>\n",
       "      <td>WD</td>\n",
       "      <td>Normal</td>\n",
       "      <td>223500</td>\n",
       "    </tr>\n",
       "    <tr>\n",
       "      <th>3</th>\n",
       "      <td>4</td>\n",
       "      <td>70</td>\n",
       "      <td>RL</td>\n",
       "      <td>60</td>\n",
       "      <td>9550</td>\n",
       "      <td>Pave</td>\n",
       "      <td>NA</td>\n",
       "      <td>IR1</td>\n",
       "      <td>Lvl</td>\n",
       "      <td>AllPub</td>\n",
       "      <td>...</td>\n",
       "      <td>0</td>\n",
       "      <td>NA</td>\n",
       "      <td>NA</td>\n",
       "      <td>NA</td>\n",
       "      <td>0</td>\n",
       "      <td>2</td>\n",
       "      <td>2006</td>\n",
       "      <td>WD</td>\n",
       "      <td>Abnorml</td>\n",
       "      <td>140000</td>\n",
       "    </tr>\n",
       "    <tr>\n",
       "      <th>4</th>\n",
       "      <td>5</td>\n",
       "      <td>60</td>\n",
       "      <td>RL</td>\n",
       "      <td>84</td>\n",
       "      <td>14260</td>\n",
       "      <td>Pave</td>\n",
       "      <td>NA</td>\n",
       "      <td>IR1</td>\n",
       "      <td>Lvl</td>\n",
       "      <td>AllPub</td>\n",
       "      <td>...</td>\n",
       "      <td>0</td>\n",
       "      <td>NA</td>\n",
       "      <td>NA</td>\n",
       "      <td>NA</td>\n",
       "      <td>0</td>\n",
       "      <td>12</td>\n",
       "      <td>2008</td>\n",
       "      <td>WD</td>\n",
       "      <td>Normal</td>\n",
       "      <td>250000</td>\n",
       "    </tr>\n",
       "  </tbody>\n",
       "</table>\n",
       "<p>5 rows × 81 columns</p>\n",
       "</div>"
      ],
      "text/plain": [
       "   Id  MSSubClass MSZoning LotFrontage  LotArea Street Alley LotShape  \\\n",
       "0   1          60       RL          65     8450   Pave    NA      Reg   \n",
       "1   2          20       RL          80     9600   Pave    NA      Reg   \n",
       "2   3          60       RL          68    11250   Pave    NA      IR1   \n",
       "3   4          70       RL          60     9550   Pave    NA      IR1   \n",
       "4   5          60       RL          84    14260   Pave    NA      IR1   \n",
       "\n",
       "  LandContour Utilities  ... PoolArea PoolQC Fence MiscFeature MiscVal MoSold  \\\n",
       "0         Lvl    AllPub  ...        0     NA    NA          NA       0      2   \n",
       "1         Lvl    AllPub  ...        0     NA    NA          NA       0      5   \n",
       "2         Lvl    AllPub  ...        0     NA    NA          NA       0      9   \n",
       "3         Lvl    AllPub  ...        0     NA    NA          NA       0      2   \n",
       "4         Lvl    AllPub  ...        0     NA    NA          NA       0     12   \n",
       "\n",
       "  YrSold  SaleType  SaleCondition  SalePrice  \n",
       "0   2008        WD         Normal     208500  \n",
       "1   2007        WD         Normal     181500  \n",
       "2   2008        WD         Normal     223500  \n",
       "3   2006        WD        Abnorml     140000  \n",
       "4   2008        WD         Normal     250000  \n",
       "\n",
       "[5 rows x 81 columns]"
      ]
     },
     "execution_count": 7,
     "metadata": {},
     "output_type": "execute_result"
    }
   ],
   "source": [
    "df.head()"
   ]
  },
  {
   "cell_type": "markdown",
   "id": "516c7384",
   "metadata": {
    "papermill": {
     "duration": 0.042852,
     "end_time": "2022-01-07T14:52:25.085983",
     "exception": false,
     "start_time": "2022-01-07T14:52:25.043131",
     "status": "completed"
    },
    "tags": []
   },
   "source": [
    "***Checking the shape—i.e. size—of the data***"
   ]
  },
  {
   "cell_type": "code",
   "execution_count": 8,
   "id": "3a4390d8",
   "metadata": {
    "execution": {
     "iopub.execute_input": "2022-01-07T14:52:25.178355Z",
     "iopub.status.busy": "2022-01-07T14:52:25.177500Z",
     "iopub.status.idle": "2022-01-07T14:52:25.180836Z",
     "shell.execute_reply": "2022-01-07T14:52:25.181359Z",
     "shell.execute_reply.started": "2022-01-07T14:42:49.245170Z"
    },
    "papermill": {
     "duration": 0.052437,
     "end_time": "2022-01-07T14:52:25.181575",
     "exception": false,
     "start_time": "2022-01-07T14:52:25.129138",
     "status": "completed"
    },
    "tags": []
   },
   "outputs": [
    {
     "data": {
      "text/plain": [
       "(1460, 81)"
      ]
     },
     "execution_count": 8,
     "metadata": {},
     "output_type": "execute_result"
    }
   ],
   "source": [
    "df.shape"
   ]
  },
  {
   "cell_type": "markdown",
   "id": "70695842",
   "metadata": {
    "papermill": {
     "duration": 0.043403,
     "end_time": "2022-01-07T14:52:25.268687",
     "exception": false,
     "start_time": "2022-01-07T14:52:25.225284",
     "status": "completed"
    },
    "tags": []
   },
   "source": [
    "***Learning the dtypes of columns' and how many non-null values are there in those columns***"
   ]
  },
  {
   "cell_type": "code",
   "execution_count": 9,
   "id": "7b32ae31",
   "metadata": {
    "execution": {
     "iopub.execute_input": "2022-01-07T14:52:25.359665Z",
     "iopub.status.busy": "2022-01-07T14:52:25.358920Z",
     "iopub.status.idle": "2022-01-07T14:52:25.395846Z",
     "shell.execute_reply": "2022-01-07T14:52:25.396415Z",
     "shell.execute_reply.started": "2022-01-07T14:42:49.261264Z"
    },
    "papermill": {
     "duration": 0.084564,
     "end_time": "2022-01-07T14:52:25.396651",
     "exception": false,
     "start_time": "2022-01-07T14:52:25.312087",
     "status": "completed"
    },
    "tags": []
   },
   "outputs": [
    {
     "name": "stdout",
     "output_type": "stream",
     "text": [
      "<class 'pandas.core.frame.DataFrame'>\n",
      "RangeIndex: 1460 entries, 0 to 1459\n",
      "Data columns (total 81 columns):\n",
      " #   Column         Non-Null Count  Dtype \n",
      "---  ------         --------------  ----- \n",
      " 0   Id             1460 non-null   int64 \n",
      " 1   MSSubClass     1460 non-null   int64 \n",
      " 2   MSZoning       1460 non-null   object\n",
      " 3   LotFrontage    1460 non-null   object\n",
      " 4   LotArea        1460 non-null   int64 \n",
      " 5   Street         1460 non-null   object\n",
      " 6   Alley          1460 non-null   object\n",
      " 7   LotShape       1460 non-null   object\n",
      " 8   LandContour    1460 non-null   object\n",
      " 9   Utilities      1460 non-null   object\n",
      " 10  LotConfig      1460 non-null   object\n",
      " 11  LandSlope      1460 non-null   object\n",
      " 12  Neighborhood   1460 non-null   object\n",
      " 13  Condition1     1460 non-null   object\n",
      " 14  Condition2     1460 non-null   object\n",
      " 15  BldgType       1460 non-null   object\n",
      " 16  HouseStyle     1460 non-null   object\n",
      " 17  OverallQual    1460 non-null   int64 \n",
      " 18  OverallCond    1460 non-null   int64 \n",
      " 19  YearBuilt      1460 non-null   int64 \n",
      " 20  YearRemodAdd   1460 non-null   int64 \n",
      " 21  RoofStyle      1460 non-null   object\n",
      " 22  RoofMatl       1460 non-null   object\n",
      " 23  Exterior1st    1460 non-null   object\n",
      " 24  Exterior2nd    1460 non-null   object\n",
      " 25  MasVnrType     1460 non-null   object\n",
      " 26  MasVnrArea     1460 non-null   object\n",
      " 27  ExterQual      1460 non-null   object\n",
      " 28  ExterCond      1460 non-null   object\n",
      " 29  Foundation     1460 non-null   object\n",
      " 30  BsmtQual       1460 non-null   object\n",
      " 31  BsmtCond       1460 non-null   object\n",
      " 32  BsmtExposure   1460 non-null   object\n",
      " 33  BsmtFinType1   1460 non-null   object\n",
      " 34  BsmtFinSF1     1460 non-null   int64 \n",
      " 35  BsmtFinType2   1460 non-null   object\n",
      " 36  BsmtFinSF2     1460 non-null   int64 \n",
      " 37  BsmtUnfSF      1460 non-null   int64 \n",
      " 38  TotalBsmtSF    1460 non-null   int64 \n",
      " 39  Heating        1460 non-null   object\n",
      " 40  HeatingQC      1460 non-null   object\n",
      " 41  CentralAir     1460 non-null   object\n",
      " 42  Electrical     1460 non-null   object\n",
      " 43  1stFlrSF       1460 non-null   int64 \n",
      " 44  2ndFlrSF       1460 non-null   int64 \n",
      " 45  LowQualFinSF   1460 non-null   int64 \n",
      " 46  GrLivArea      1460 non-null   int64 \n",
      " 47  BsmtFullBath   1460 non-null   int64 \n",
      " 48  BsmtHalfBath   1460 non-null   int64 \n",
      " 49  FullBath       1460 non-null   int64 \n",
      " 50  HalfBath       1460 non-null   int64 \n",
      " 51  BedroomAbvGr   1460 non-null   int64 \n",
      " 52  KitchenAbvGr   1460 non-null   int64 \n",
      " 53  KitchenQual    1460 non-null   object\n",
      " 54  TotRmsAbvGrd   1460 non-null   int64 \n",
      " 55  Functional     1460 non-null   object\n",
      " 56  Fireplaces     1460 non-null   int64 \n",
      " 57  FireplaceQu    1460 non-null   object\n",
      " 58  GarageType     1460 non-null   object\n",
      " 59  GarageYrBlt    1460 non-null   object\n",
      " 60  GarageFinish   1460 non-null   object\n",
      " 61  GarageCars     1460 non-null   int64 \n",
      " 62  GarageArea     1460 non-null   int64 \n",
      " 63  GarageQual     1460 non-null   object\n",
      " 64  GarageCond     1460 non-null   object\n",
      " 65  PavedDrive     1460 non-null   object\n",
      " 66  WoodDeckSF     1460 non-null   int64 \n",
      " 67  OpenPorchSF    1460 non-null   int64 \n",
      " 68  EnclosedPorch  1460 non-null   int64 \n",
      " 69  3SsnPorch      1460 non-null   int64 \n",
      " 70  ScreenPorch    1460 non-null   int64 \n",
      " 71  PoolArea       1460 non-null   int64 \n",
      " 72  PoolQC         1460 non-null   object\n",
      " 73  Fence          1460 non-null   object\n",
      " 74  MiscFeature    1460 non-null   object\n",
      " 75  MiscVal        1460 non-null   int64 \n",
      " 76  MoSold         1460 non-null   int64 \n",
      " 77  YrSold         1460 non-null   int64 \n",
      " 78  SaleType       1460 non-null   object\n",
      " 79  SaleCondition  1460 non-null   object\n",
      " 80  SalePrice      1460 non-null   int64 \n",
      "dtypes: int64(35), object(46)\n",
      "memory usage: 924.0+ KB\n"
     ]
    }
   ],
   "source": [
    "df.info()"
   ]
  },
  {
   "cell_type": "markdown",
   "id": "236aa98a",
   "metadata": {
    "papermill": {
     "duration": 0.043514,
     "end_time": "2022-01-07T14:52:25.483769",
     "exception": false,
     "start_time": "2022-01-07T14:52:25.440255",
     "status": "completed"
    },
    "tags": []
   },
   "source": [
    "***Getting the statistical summary of dataset***"
   ]
  },
  {
   "cell_type": "code",
   "execution_count": 10,
   "id": "e9c60632",
   "metadata": {
    "execution": {
     "iopub.execute_input": "2022-01-07T14:52:25.576394Z",
     "iopub.status.busy": "2022-01-07T14:52:25.575750Z",
     "iopub.status.idle": "2022-01-07T14:52:25.683342Z",
     "shell.execute_reply": "2022-01-07T14:52:25.683858Z",
     "shell.execute_reply.started": "2022-01-07T14:42:49.293081Z"
    },
    "papermill": {
     "duration": 0.155369,
     "end_time": "2022-01-07T14:52:25.684061",
     "exception": false,
     "start_time": "2022-01-07T14:52:25.528692",
     "status": "completed"
    },
    "tags": []
   },
   "outputs": [
    {
     "data": {
      "text/html": [
       "<div>\n",
       "<style scoped>\n",
       "    .dataframe tbody tr th:only-of-type {\n",
       "        vertical-align: middle;\n",
       "    }\n",
       "\n",
       "    .dataframe tbody tr th {\n",
       "        vertical-align: top;\n",
       "    }\n",
       "\n",
       "    .dataframe thead th {\n",
       "        text-align: right;\n",
       "    }\n",
       "</style>\n",
       "<table border=\"1\" class=\"dataframe\">\n",
       "  <thead>\n",
       "    <tr style=\"text-align: right;\">\n",
       "      <th></th>\n",
       "      <th>count</th>\n",
       "      <th>mean</th>\n",
       "      <th>std</th>\n",
       "      <th>min</th>\n",
       "      <th>25%</th>\n",
       "      <th>50%</th>\n",
       "      <th>75%</th>\n",
       "      <th>max</th>\n",
       "    </tr>\n",
       "  </thead>\n",
       "  <tbody>\n",
       "    <tr>\n",
       "      <th>Id</th>\n",
       "      <td>1460.0</td>\n",
       "      <td>730.500000</td>\n",
       "      <td>421.610009</td>\n",
       "      <td>1.0</td>\n",
       "      <td>365.75</td>\n",
       "      <td>730.5</td>\n",
       "      <td>1095.25</td>\n",
       "      <td>1460.0</td>\n",
       "    </tr>\n",
       "    <tr>\n",
       "      <th>MSSubClass</th>\n",
       "      <td>1460.0</td>\n",
       "      <td>56.897260</td>\n",
       "      <td>42.300571</td>\n",
       "      <td>20.0</td>\n",
       "      <td>20.00</td>\n",
       "      <td>50.0</td>\n",
       "      <td>70.00</td>\n",
       "      <td>190.0</td>\n",
       "    </tr>\n",
       "    <tr>\n",
       "      <th>LotArea</th>\n",
       "      <td>1460.0</td>\n",
       "      <td>10516.828082</td>\n",
       "      <td>9981.264932</td>\n",
       "      <td>1300.0</td>\n",
       "      <td>7553.50</td>\n",
       "      <td>9478.5</td>\n",
       "      <td>11601.50</td>\n",
       "      <td>215245.0</td>\n",
       "    </tr>\n",
       "    <tr>\n",
       "      <th>OverallQual</th>\n",
       "      <td>1460.0</td>\n",
       "      <td>6.099315</td>\n",
       "      <td>1.382997</td>\n",
       "      <td>1.0</td>\n",
       "      <td>5.00</td>\n",
       "      <td>6.0</td>\n",
       "      <td>7.00</td>\n",
       "      <td>10.0</td>\n",
       "    </tr>\n",
       "    <tr>\n",
       "      <th>OverallCond</th>\n",
       "      <td>1460.0</td>\n",
       "      <td>5.575342</td>\n",
       "      <td>1.112799</td>\n",
       "      <td>1.0</td>\n",
       "      <td>5.00</td>\n",
       "      <td>5.0</td>\n",
       "      <td>6.00</td>\n",
       "      <td>9.0</td>\n",
       "    </tr>\n",
       "    <tr>\n",
       "      <th>YearBuilt</th>\n",
       "      <td>1460.0</td>\n",
       "      <td>1971.267808</td>\n",
       "      <td>30.202904</td>\n",
       "      <td>1872.0</td>\n",
       "      <td>1954.00</td>\n",
       "      <td>1973.0</td>\n",
       "      <td>2000.00</td>\n",
       "      <td>2010.0</td>\n",
       "    </tr>\n",
       "    <tr>\n",
       "      <th>YearRemodAdd</th>\n",
       "      <td>1460.0</td>\n",
       "      <td>1984.865753</td>\n",
       "      <td>20.645407</td>\n",
       "      <td>1950.0</td>\n",
       "      <td>1967.00</td>\n",
       "      <td>1994.0</td>\n",
       "      <td>2004.00</td>\n",
       "      <td>2010.0</td>\n",
       "    </tr>\n",
       "    <tr>\n",
       "      <th>BsmtFinSF1</th>\n",
       "      <td>1460.0</td>\n",
       "      <td>443.639726</td>\n",
       "      <td>456.098091</td>\n",
       "      <td>0.0</td>\n",
       "      <td>0.00</td>\n",
       "      <td>383.5</td>\n",
       "      <td>712.25</td>\n",
       "      <td>5644.0</td>\n",
       "    </tr>\n",
       "    <tr>\n",
       "      <th>BsmtFinSF2</th>\n",
       "      <td>1460.0</td>\n",
       "      <td>46.549315</td>\n",
       "      <td>161.319273</td>\n",
       "      <td>0.0</td>\n",
       "      <td>0.00</td>\n",
       "      <td>0.0</td>\n",
       "      <td>0.00</td>\n",
       "      <td>1474.0</td>\n",
       "    </tr>\n",
       "    <tr>\n",
       "      <th>BsmtUnfSF</th>\n",
       "      <td>1460.0</td>\n",
       "      <td>567.240411</td>\n",
       "      <td>441.866955</td>\n",
       "      <td>0.0</td>\n",
       "      <td>223.00</td>\n",
       "      <td>477.5</td>\n",
       "      <td>808.00</td>\n",
       "      <td>2336.0</td>\n",
       "    </tr>\n",
       "    <tr>\n",
       "      <th>TotalBsmtSF</th>\n",
       "      <td>1460.0</td>\n",
       "      <td>1057.429452</td>\n",
       "      <td>438.705324</td>\n",
       "      <td>0.0</td>\n",
       "      <td>795.75</td>\n",
       "      <td>991.5</td>\n",
       "      <td>1298.25</td>\n",
       "      <td>6110.0</td>\n",
       "    </tr>\n",
       "    <tr>\n",
       "      <th>1stFlrSF</th>\n",
       "      <td>1460.0</td>\n",
       "      <td>1162.626712</td>\n",
       "      <td>386.587738</td>\n",
       "      <td>334.0</td>\n",
       "      <td>882.00</td>\n",
       "      <td>1087.0</td>\n",
       "      <td>1391.25</td>\n",
       "      <td>4692.0</td>\n",
       "    </tr>\n",
       "    <tr>\n",
       "      <th>2ndFlrSF</th>\n",
       "      <td>1460.0</td>\n",
       "      <td>346.992466</td>\n",
       "      <td>436.528436</td>\n",
       "      <td>0.0</td>\n",
       "      <td>0.00</td>\n",
       "      <td>0.0</td>\n",
       "      <td>728.00</td>\n",
       "      <td>2065.0</td>\n",
       "    </tr>\n",
       "    <tr>\n",
       "      <th>LowQualFinSF</th>\n",
       "      <td>1460.0</td>\n",
       "      <td>5.844521</td>\n",
       "      <td>48.623081</td>\n",
       "      <td>0.0</td>\n",
       "      <td>0.00</td>\n",
       "      <td>0.0</td>\n",
       "      <td>0.00</td>\n",
       "      <td>572.0</td>\n",
       "    </tr>\n",
       "    <tr>\n",
       "      <th>GrLivArea</th>\n",
       "      <td>1460.0</td>\n",
       "      <td>1515.463699</td>\n",
       "      <td>525.480383</td>\n",
       "      <td>334.0</td>\n",
       "      <td>1129.50</td>\n",
       "      <td>1464.0</td>\n",
       "      <td>1776.75</td>\n",
       "      <td>5642.0</td>\n",
       "    </tr>\n",
       "    <tr>\n",
       "      <th>BsmtFullBath</th>\n",
       "      <td>1460.0</td>\n",
       "      <td>0.425342</td>\n",
       "      <td>0.518911</td>\n",
       "      <td>0.0</td>\n",
       "      <td>0.00</td>\n",
       "      <td>0.0</td>\n",
       "      <td>1.00</td>\n",
       "      <td>3.0</td>\n",
       "    </tr>\n",
       "    <tr>\n",
       "      <th>BsmtHalfBath</th>\n",
       "      <td>1460.0</td>\n",
       "      <td>0.057534</td>\n",
       "      <td>0.238753</td>\n",
       "      <td>0.0</td>\n",
       "      <td>0.00</td>\n",
       "      <td>0.0</td>\n",
       "      <td>0.00</td>\n",
       "      <td>2.0</td>\n",
       "    </tr>\n",
       "    <tr>\n",
       "      <th>FullBath</th>\n",
       "      <td>1460.0</td>\n",
       "      <td>1.565068</td>\n",
       "      <td>0.550916</td>\n",
       "      <td>0.0</td>\n",
       "      <td>1.00</td>\n",
       "      <td>2.0</td>\n",
       "      <td>2.00</td>\n",
       "      <td>3.0</td>\n",
       "    </tr>\n",
       "    <tr>\n",
       "      <th>HalfBath</th>\n",
       "      <td>1460.0</td>\n",
       "      <td>0.382877</td>\n",
       "      <td>0.502885</td>\n",
       "      <td>0.0</td>\n",
       "      <td>0.00</td>\n",
       "      <td>0.0</td>\n",
       "      <td>1.00</td>\n",
       "      <td>2.0</td>\n",
       "    </tr>\n",
       "    <tr>\n",
       "      <th>BedroomAbvGr</th>\n",
       "      <td>1460.0</td>\n",
       "      <td>2.866438</td>\n",
       "      <td>0.815778</td>\n",
       "      <td>0.0</td>\n",
       "      <td>2.00</td>\n",
       "      <td>3.0</td>\n",
       "      <td>3.00</td>\n",
       "      <td>8.0</td>\n",
       "    </tr>\n",
       "    <tr>\n",
       "      <th>KitchenAbvGr</th>\n",
       "      <td>1460.0</td>\n",
       "      <td>1.046575</td>\n",
       "      <td>0.220338</td>\n",
       "      <td>0.0</td>\n",
       "      <td>1.00</td>\n",
       "      <td>1.0</td>\n",
       "      <td>1.00</td>\n",
       "      <td>3.0</td>\n",
       "    </tr>\n",
       "    <tr>\n",
       "      <th>TotRmsAbvGrd</th>\n",
       "      <td>1460.0</td>\n",
       "      <td>6.517808</td>\n",
       "      <td>1.625393</td>\n",
       "      <td>2.0</td>\n",
       "      <td>5.00</td>\n",
       "      <td>6.0</td>\n",
       "      <td>7.00</td>\n",
       "      <td>14.0</td>\n",
       "    </tr>\n",
       "    <tr>\n",
       "      <th>Fireplaces</th>\n",
       "      <td>1460.0</td>\n",
       "      <td>0.613014</td>\n",
       "      <td>0.644666</td>\n",
       "      <td>0.0</td>\n",
       "      <td>0.00</td>\n",
       "      <td>1.0</td>\n",
       "      <td>1.00</td>\n",
       "      <td>3.0</td>\n",
       "    </tr>\n",
       "    <tr>\n",
       "      <th>GarageCars</th>\n",
       "      <td>1460.0</td>\n",
       "      <td>1.767123</td>\n",
       "      <td>0.747315</td>\n",
       "      <td>0.0</td>\n",
       "      <td>1.00</td>\n",
       "      <td>2.0</td>\n",
       "      <td>2.00</td>\n",
       "      <td>4.0</td>\n",
       "    </tr>\n",
       "    <tr>\n",
       "      <th>GarageArea</th>\n",
       "      <td>1460.0</td>\n",
       "      <td>472.980137</td>\n",
       "      <td>213.804841</td>\n",
       "      <td>0.0</td>\n",
       "      <td>334.50</td>\n",
       "      <td>480.0</td>\n",
       "      <td>576.00</td>\n",
       "      <td>1418.0</td>\n",
       "    </tr>\n",
       "    <tr>\n",
       "      <th>WoodDeckSF</th>\n",
       "      <td>1460.0</td>\n",
       "      <td>94.244521</td>\n",
       "      <td>125.338794</td>\n",
       "      <td>0.0</td>\n",
       "      <td>0.00</td>\n",
       "      <td>0.0</td>\n",
       "      <td>168.00</td>\n",
       "      <td>857.0</td>\n",
       "    </tr>\n",
       "    <tr>\n",
       "      <th>OpenPorchSF</th>\n",
       "      <td>1460.0</td>\n",
       "      <td>46.660274</td>\n",
       "      <td>66.256028</td>\n",
       "      <td>0.0</td>\n",
       "      <td>0.00</td>\n",
       "      <td>25.0</td>\n",
       "      <td>68.00</td>\n",
       "      <td>547.0</td>\n",
       "    </tr>\n",
       "    <tr>\n",
       "      <th>EnclosedPorch</th>\n",
       "      <td>1460.0</td>\n",
       "      <td>21.954110</td>\n",
       "      <td>61.119149</td>\n",
       "      <td>0.0</td>\n",
       "      <td>0.00</td>\n",
       "      <td>0.0</td>\n",
       "      <td>0.00</td>\n",
       "      <td>552.0</td>\n",
       "    </tr>\n",
       "    <tr>\n",
       "      <th>3SsnPorch</th>\n",
       "      <td>1460.0</td>\n",
       "      <td>3.409589</td>\n",
       "      <td>29.317331</td>\n",
       "      <td>0.0</td>\n",
       "      <td>0.00</td>\n",
       "      <td>0.0</td>\n",
       "      <td>0.00</td>\n",
       "      <td>508.0</td>\n",
       "    </tr>\n",
       "    <tr>\n",
       "      <th>ScreenPorch</th>\n",
       "      <td>1460.0</td>\n",
       "      <td>15.060959</td>\n",
       "      <td>55.757415</td>\n",
       "      <td>0.0</td>\n",
       "      <td>0.00</td>\n",
       "      <td>0.0</td>\n",
       "      <td>0.00</td>\n",
       "      <td>480.0</td>\n",
       "    </tr>\n",
       "    <tr>\n",
       "      <th>PoolArea</th>\n",
       "      <td>1460.0</td>\n",
       "      <td>2.758904</td>\n",
       "      <td>40.177307</td>\n",
       "      <td>0.0</td>\n",
       "      <td>0.00</td>\n",
       "      <td>0.0</td>\n",
       "      <td>0.00</td>\n",
       "      <td>738.0</td>\n",
       "    </tr>\n",
       "    <tr>\n",
       "      <th>MiscVal</th>\n",
       "      <td>1460.0</td>\n",
       "      <td>43.489041</td>\n",
       "      <td>496.123024</td>\n",
       "      <td>0.0</td>\n",
       "      <td>0.00</td>\n",
       "      <td>0.0</td>\n",
       "      <td>0.00</td>\n",
       "      <td>15500.0</td>\n",
       "    </tr>\n",
       "    <tr>\n",
       "      <th>MoSold</th>\n",
       "      <td>1460.0</td>\n",
       "      <td>6.321918</td>\n",
       "      <td>2.703626</td>\n",
       "      <td>1.0</td>\n",
       "      <td>5.00</td>\n",
       "      <td>6.0</td>\n",
       "      <td>8.00</td>\n",
       "      <td>12.0</td>\n",
       "    </tr>\n",
       "    <tr>\n",
       "      <th>YrSold</th>\n",
       "      <td>1460.0</td>\n",
       "      <td>2007.815753</td>\n",
       "      <td>1.328095</td>\n",
       "      <td>2006.0</td>\n",
       "      <td>2007.00</td>\n",
       "      <td>2008.0</td>\n",
       "      <td>2009.00</td>\n",
       "      <td>2010.0</td>\n",
       "    </tr>\n",
       "    <tr>\n",
       "      <th>SalePrice</th>\n",
       "      <td>1460.0</td>\n",
       "      <td>180921.195890</td>\n",
       "      <td>79442.502883</td>\n",
       "      <td>34900.0</td>\n",
       "      <td>129975.00</td>\n",
       "      <td>163000.0</td>\n",
       "      <td>214000.00</td>\n",
       "      <td>755000.0</td>\n",
       "    </tr>\n",
       "  </tbody>\n",
       "</table>\n",
       "</div>"
      ],
      "text/plain": [
       "                count           mean           std      min        25%  \\\n",
       "Id             1460.0     730.500000    421.610009      1.0     365.75   \n",
       "MSSubClass     1460.0      56.897260     42.300571     20.0      20.00   \n",
       "LotArea        1460.0   10516.828082   9981.264932   1300.0    7553.50   \n",
       "OverallQual    1460.0       6.099315      1.382997      1.0       5.00   \n",
       "OverallCond    1460.0       5.575342      1.112799      1.0       5.00   \n",
       "YearBuilt      1460.0    1971.267808     30.202904   1872.0    1954.00   \n",
       "YearRemodAdd   1460.0    1984.865753     20.645407   1950.0    1967.00   \n",
       "BsmtFinSF1     1460.0     443.639726    456.098091      0.0       0.00   \n",
       "BsmtFinSF2     1460.0      46.549315    161.319273      0.0       0.00   \n",
       "BsmtUnfSF      1460.0     567.240411    441.866955      0.0     223.00   \n",
       "TotalBsmtSF    1460.0    1057.429452    438.705324      0.0     795.75   \n",
       "1stFlrSF       1460.0    1162.626712    386.587738    334.0     882.00   \n",
       "2ndFlrSF       1460.0     346.992466    436.528436      0.0       0.00   \n",
       "LowQualFinSF   1460.0       5.844521     48.623081      0.0       0.00   \n",
       "GrLivArea      1460.0    1515.463699    525.480383    334.0    1129.50   \n",
       "BsmtFullBath   1460.0       0.425342      0.518911      0.0       0.00   \n",
       "BsmtHalfBath   1460.0       0.057534      0.238753      0.0       0.00   \n",
       "FullBath       1460.0       1.565068      0.550916      0.0       1.00   \n",
       "HalfBath       1460.0       0.382877      0.502885      0.0       0.00   \n",
       "BedroomAbvGr   1460.0       2.866438      0.815778      0.0       2.00   \n",
       "KitchenAbvGr   1460.0       1.046575      0.220338      0.0       1.00   \n",
       "TotRmsAbvGrd   1460.0       6.517808      1.625393      2.0       5.00   \n",
       "Fireplaces     1460.0       0.613014      0.644666      0.0       0.00   \n",
       "GarageCars     1460.0       1.767123      0.747315      0.0       1.00   \n",
       "GarageArea     1460.0     472.980137    213.804841      0.0     334.50   \n",
       "WoodDeckSF     1460.0      94.244521    125.338794      0.0       0.00   \n",
       "OpenPorchSF    1460.0      46.660274     66.256028      0.0       0.00   \n",
       "EnclosedPorch  1460.0      21.954110     61.119149      0.0       0.00   \n",
       "3SsnPorch      1460.0       3.409589     29.317331      0.0       0.00   \n",
       "ScreenPorch    1460.0      15.060959     55.757415      0.0       0.00   \n",
       "PoolArea       1460.0       2.758904     40.177307      0.0       0.00   \n",
       "MiscVal        1460.0      43.489041    496.123024      0.0       0.00   \n",
       "MoSold         1460.0       6.321918      2.703626      1.0       5.00   \n",
       "YrSold         1460.0    2007.815753      1.328095   2006.0    2007.00   \n",
       "SalePrice      1460.0  180921.195890  79442.502883  34900.0  129975.00   \n",
       "\n",
       "                    50%        75%       max  \n",
       "Id                730.5    1095.25    1460.0  \n",
       "MSSubClass         50.0      70.00     190.0  \n",
       "LotArea          9478.5   11601.50  215245.0  \n",
       "OverallQual         6.0       7.00      10.0  \n",
       "OverallCond         5.0       6.00       9.0  \n",
       "YearBuilt        1973.0    2000.00    2010.0  \n",
       "YearRemodAdd     1994.0    2004.00    2010.0  \n",
       "BsmtFinSF1        383.5     712.25    5644.0  \n",
       "BsmtFinSF2          0.0       0.00    1474.0  \n",
       "BsmtUnfSF         477.5     808.00    2336.0  \n",
       "TotalBsmtSF       991.5    1298.25    6110.0  \n",
       "1stFlrSF         1087.0    1391.25    4692.0  \n",
       "2ndFlrSF            0.0     728.00    2065.0  \n",
       "LowQualFinSF        0.0       0.00     572.0  \n",
       "GrLivArea        1464.0    1776.75    5642.0  \n",
       "BsmtFullBath        0.0       1.00       3.0  \n",
       "BsmtHalfBath        0.0       0.00       2.0  \n",
       "FullBath            2.0       2.00       3.0  \n",
       "HalfBath            0.0       1.00       2.0  \n",
       "BedroomAbvGr        3.0       3.00       8.0  \n",
       "KitchenAbvGr        1.0       1.00       3.0  \n",
       "TotRmsAbvGrd        6.0       7.00      14.0  \n",
       "Fireplaces          1.0       1.00       3.0  \n",
       "GarageCars          2.0       2.00       4.0  \n",
       "GarageArea        480.0     576.00    1418.0  \n",
       "WoodDeckSF          0.0     168.00     857.0  \n",
       "OpenPorchSF        25.0      68.00     547.0  \n",
       "EnclosedPorch       0.0       0.00     552.0  \n",
       "3SsnPorch           0.0       0.00     508.0  \n",
       "ScreenPorch         0.0       0.00     480.0  \n",
       "PoolArea            0.0       0.00     738.0  \n",
       "MiscVal             0.0       0.00   15500.0  \n",
       "MoSold              6.0       8.00      12.0  \n",
       "YrSold           2008.0    2009.00    2010.0  \n",
       "SalePrice      163000.0  214000.00  755000.0  "
      ]
     },
     "execution_count": 10,
     "metadata": {},
     "output_type": "execute_result"
    }
   ],
   "source": [
    "df.describe().T"
   ]
  },
  {
   "cell_type": "markdown",
   "id": "796a75d0",
   "metadata": {
    "papermill": {
     "duration": 0.047016,
     "end_time": "2022-01-07T14:52:26.966511",
     "exception": false,
     "start_time": "2022-01-07T14:52:26.919495",
     "status": "completed"
    },
    "tags": []
   },
   "source": [
    "<h1 style=\"font-family: 'Times New Roman'; letter-spacing: 0.08em;\">Feature Selection</h1>"
   ]
  },
  {
   "cell_type": "markdown",
   "id": "e1472339",
   "metadata": {
    "papermill": {
     "duration": 0.046706,
     "end_time": "2022-01-07T14:52:27.060244",
     "exception": false,
     "start_time": "2022-01-07T14:52:27.013538",
     "status": "completed"
    },
    "tags": []
   },
   "source": [
    "***We are selecting numerical features which have more than 0.50 or less than -0.50 correlation rate based on Pearson Correlation Method—which is the default value of parameter \"method\" in corr() function. As for selecting categorical features, I selected the categorical values which I believe have significant effect on the target variable such as Heating and MSZoning.***"
   ]
  },
  {
   "cell_type": "code",
   "execution_count": 11,
   "id": "fbf97074",
   "metadata": {
    "execution": {
     "iopub.execute_input": "2022-01-07T14:52:27.161546Z",
     "iopub.status.busy": "2022-01-07T14:52:27.160839Z",
     "iopub.status.idle": "2022-01-07T14:52:27.187892Z",
     "shell.execute_reply": "2022-01-07T14:52:27.188471Z",
     "shell.execute_reply.started": "2022-01-07T14:42:50.338019Z"
    },
    "papermill": {
     "duration": 0.081082,
     "end_time": "2022-01-07T14:52:27.188662",
     "exception": false,
     "start_time": "2022-01-07T14:52:27.107580",
     "status": "completed"
    },
    "tags": []
   },
   "outputs": [],
   "source": [
    "important_num_cols = list(df.corr()[\"SalePrice\"][(df.corr()[\"SalePrice\"]>0.50) | (df.corr()[\"SalePrice\"]<-0.50)].index)\n",
    "cat_cols = [\"MSZoning\", \"Utilities\",\"BldgType\",\"Heating\",\"KitchenQual\",\"SaleCondition\",\"LandSlope\"]\n",
    "important_cols = important_num_cols + cat_cols\n",
    "\n",
    "df = df[important_cols]"
   ]
  },
  {
   "cell_type": "markdown",
   "id": "f6673694",
   "metadata": {
    "papermill": {
     "duration": 0.0465,
     "end_time": "2022-01-07T14:52:27.282302",
     "exception": false,
     "start_time": "2022-01-07T14:52:27.235802",
     "status": "completed"
    },
    "tags": []
   },
   "source": [
    "***Checking for the missing values***"
   ]
  },
  {
   "cell_type": "code",
   "execution_count": 12,
   "id": "b3ad493a",
   "metadata": {
    "execution": {
     "iopub.execute_input": "2022-01-07T14:52:27.380171Z",
     "iopub.status.busy": "2022-01-07T14:52:27.379562Z",
     "iopub.status.idle": "2022-01-07T14:52:27.393576Z",
     "shell.execute_reply": "2022-01-07T14:52:27.394187Z",
     "shell.execute_reply.started": "2022-01-07T14:42:50.367799Z"
    },
    "papermill": {
     "duration": 0.064672,
     "end_time": "2022-01-07T14:52:27.394368",
     "exception": false,
     "start_time": "2022-01-07T14:52:27.329696",
     "status": "completed"
    },
    "tags": []
   },
   "outputs": [
    {
     "name": "stdout",
     "output_type": "stream",
     "text": [
      "Missing Values by Column\n",
      "------------------------------\n",
      "OverallQual      0\n",
      "YearBuilt        0\n",
      "YearRemodAdd     0\n",
      "TotalBsmtSF      0\n",
      "1stFlrSF         0\n",
      "GrLivArea        0\n",
      "FullBath         0\n",
      "TotRmsAbvGrd     0\n",
      "GarageCars       0\n",
      "GarageArea       0\n",
      "SalePrice        0\n",
      "MSZoning         0\n",
      "Utilities        0\n",
      "BldgType         0\n",
      "Heating          0\n",
      "KitchenQual      0\n",
      "SaleCondition    0\n",
      "LandSlope        0\n",
      "dtype: int64\n",
      "------------------------------\n",
      "TOTAL MISSING VALUES: 0\n"
     ]
    }
   ],
   "source": [
    "print(\"Missing Values by Column\")\n",
    "print(\"-\"*30)\n",
    "print(df.isna().sum())\n",
    "print(\"-\"*30)\n",
    "print(\"TOTAL MISSING VALUES:\",df.isna().sum().sum())"
   ]
  },
  {
   "cell_type": "markdown",
   "id": "c7ad83c4",
   "metadata": {
    "papermill": {
     "duration": 0.101908,
     "end_time": "2022-01-07T14:53:11.236310",
     "exception": false,
     "start_time": "2022-01-07T14:53:11.134402",
     "status": "completed"
    },
    "tags": []
   },
   "source": [
    "<h1 style=\"font-family: 'Times New Roman'; letter-spacing: 0.08em;\">X, y Split</h1>"
   ]
  },
  {
   "cell_type": "markdown",
   "id": "1f41b275",
   "metadata": {
    "papermill": {
     "duration": 0.101341,
     "end_time": "2022-01-07T14:53:11.439144",
     "exception": false,
     "start_time": "2022-01-07T14:53:11.337803",
     "status": "completed"
    },
    "tags": []
   },
   "source": [
    "***Splitting the data into X and y chunks***"
   ]
  },
  {
   "cell_type": "code",
   "execution_count": 13,
   "id": "ac825bef",
   "metadata": {
    "execution": {
     "iopub.execute_input": "2022-01-07T14:53:11.647113Z",
     "iopub.status.busy": "2022-01-07T14:53:11.646485Z",
     "iopub.status.idle": "2022-01-07T14:53:11.651440Z",
     "shell.execute_reply": "2022-01-07T14:53:11.652135Z",
     "shell.execute_reply.started": "2022-01-07T14:43:34.571687Z"
    },
    "papermill": {
     "duration": 0.111491,
     "end_time": "2022-01-07T14:53:11.652319",
     "exception": false,
     "start_time": "2022-01-07T14:53:11.540828",
     "status": "completed"
    },
    "tags": []
   },
   "outputs": [],
   "source": [
    "X = df.drop(\"SalePrice\", axis=1)\n",
    "y = df[\"SalePrice\"]"
   ]
  },
  {
   "cell_type": "markdown",
   "id": "957e7868",
   "metadata": {
    "papermill": {
     "duration": 0.104454,
     "end_time": "2022-01-07T14:53:11.858570",
     "exception": false,
     "start_time": "2022-01-07T14:53:11.754116",
     "status": "completed"
    },
    "tags": []
   },
   "source": [
    "<h1 style=\"font-family: 'Times New Roman'; letter-spacing: 0.08em;\">One-Hot Encoding</h1>"
   ]
  },
  {
   "cell_type": "markdown",
   "id": "eb47eef6",
   "metadata": {
    "papermill": {
     "duration": 0.104928,
     "end_time": "2022-01-07T14:53:12.067282",
     "exception": false,
     "start_time": "2022-01-07T14:53:11.962354",
     "status": "completed"
    },
    "tags": []
   },
   "source": [
    "***Encoding the categorical features in X dataset by using One-Hot Encoding method***"
   ]
  },
  {
   "cell_type": "code",
   "execution_count": 14,
   "id": "1dd62530",
   "metadata": {
    "execution": {
     "iopub.execute_input": "2022-01-07T14:53:12.276824Z",
     "iopub.status.busy": "2022-01-07T14:53:12.276088Z",
     "iopub.status.idle": "2022-01-07T14:53:12.288834Z",
     "shell.execute_reply": "2022-01-07T14:53:12.289378Z",
     "shell.execute_reply.started": "2022-01-07T14:43:34.578953Z"
    },
    "papermill": {
     "duration": 0.11955,
     "end_time": "2022-01-07T14:53:12.289583",
     "exception": false,
     "start_time": "2022-01-07T14:53:12.170033",
     "status": "completed"
    },
    "tags": []
   },
   "outputs": [],
   "source": [
    "X = pd.get_dummies(X, columns=cat_cols)"
   ]
  },
  {
   "cell_type": "markdown",
   "id": "5c23c6f5",
   "metadata": {
    "papermill": {
     "duration": 0.103223,
     "end_time": "2022-01-07T14:53:12.496731",
     "exception": false,
     "start_time": "2022-01-07T14:53:12.393508",
     "status": "completed"
    },
    "tags": []
   },
   "source": [
    "<h1 style=\"font-family: 'Times New Roman'; letter-spacing: 0.08em;\">Standardizing the Data</h1>"
   ]
  },
  {
   "cell_type": "markdown",
   "id": "cd239272",
   "metadata": {
    "papermill": {
     "duration": 0.102248,
     "end_time": "2022-01-07T14:53:12.702016",
     "exception": false,
     "start_time": "2022-01-07T14:53:12.599768",
     "status": "completed"
    },
    "tags": []
   },
   "source": [
    "***Standardizing the numerical columns in X dataset. StandardScaler() adjusts the mean of the features as 0 and standard deviation of features as 1. Formula that StandardScaler() uses is as follows:***"
   ]
  },
  {
   "cell_type": "code",
   "execution_count": 15,
   "id": "4ab78b65",
   "metadata": {
    "execution": {
     "iopub.execute_input": "2022-01-07T14:53:13.130160Z",
     "iopub.status.busy": "2022-01-07T14:53:13.129350Z",
     "iopub.status.idle": "2022-01-07T14:53:13.137015Z",
     "shell.execute_reply": "2022-01-07T14:53:13.137596Z",
     "shell.execute_reply.started": "2022-01-07T14:43:34.601579Z"
    },
    "papermill": {
     "duration": 0.120475,
     "end_time": "2022-01-07T14:53:13.137818",
     "exception": false,
     "start_time": "2022-01-07T14:53:13.017343",
     "status": "completed"
    },
    "tags": []
   },
   "outputs": [],
   "source": [
    "important_num_cols.remove(\"SalePrice\")\n",
    "\n",
    "scaler = StandardScaler()\n",
    "X[important_num_cols] = scaler.fit_transform(X[important_num_cols])"
   ]
  },
  {
   "cell_type": "code",
   "execution_count": 16,
   "id": "bdfe99cf",
   "metadata": {
    "execution": {
     "iopub.execute_input": "2022-01-07T14:53:13.575636Z",
     "iopub.status.busy": "2022-01-07T14:53:13.574885Z",
     "iopub.status.idle": "2022-01-07T14:53:13.596030Z",
     "shell.execute_reply": "2022-01-07T14:53:13.596561Z",
     "shell.execute_reply.started": "2022-01-07T14:43:34.616498Z"
    },
    "papermill": {
     "duration": 0.130495,
     "end_time": "2022-01-07T14:53:13.596771",
     "exception": false,
     "start_time": "2022-01-07T14:53:13.466276",
     "status": "completed"
    },
    "tags": []
   },
   "outputs": [
    {
     "data": {
      "text/html": [
       "<div>\n",
       "<style scoped>\n",
       "    .dataframe tbody tr th:only-of-type {\n",
       "        vertical-align: middle;\n",
       "    }\n",
       "\n",
       "    .dataframe tbody tr th {\n",
       "        vertical-align: top;\n",
       "    }\n",
       "\n",
       "    .dataframe thead th {\n",
       "        text-align: right;\n",
       "    }\n",
       "</style>\n",
       "<table border=\"1\" class=\"dataframe\">\n",
       "  <thead>\n",
       "    <tr style=\"text-align: right;\">\n",
       "      <th></th>\n",
       "      <th>OverallQual</th>\n",
       "      <th>YearBuilt</th>\n",
       "      <th>YearRemodAdd</th>\n",
       "      <th>TotalBsmtSF</th>\n",
       "      <th>1stFlrSF</th>\n",
       "      <th>GrLivArea</th>\n",
       "      <th>FullBath</th>\n",
       "      <th>TotRmsAbvGrd</th>\n",
       "      <th>GarageCars</th>\n",
       "      <th>GarageArea</th>\n",
       "      <th>...</th>\n",
       "      <th>KitchenQual_TA</th>\n",
       "      <th>SaleCondition_Abnorml</th>\n",
       "      <th>SaleCondition_AdjLand</th>\n",
       "      <th>SaleCondition_Alloca</th>\n",
       "      <th>SaleCondition_Family</th>\n",
       "      <th>SaleCondition_Normal</th>\n",
       "      <th>SaleCondition_Partial</th>\n",
       "      <th>LandSlope_Gtl</th>\n",
       "      <th>LandSlope_Mod</th>\n",
       "      <th>LandSlope_Sev</th>\n",
       "    </tr>\n",
       "  </thead>\n",
       "  <tbody>\n",
       "    <tr>\n",
       "      <th>0</th>\n",
       "      <td>0.651479</td>\n",
       "      <td>1.050994</td>\n",
       "      <td>0.878668</td>\n",
       "      <td>-0.459303</td>\n",
       "      <td>-0.793434</td>\n",
       "      <td>0.370333</td>\n",
       "      <td>0.789741</td>\n",
       "      <td>0.912210</td>\n",
       "      <td>0.311725</td>\n",
       "      <td>0.351000</td>\n",
       "      <td>...</td>\n",
       "      <td>0</td>\n",
       "      <td>0</td>\n",
       "      <td>0</td>\n",
       "      <td>0</td>\n",
       "      <td>0</td>\n",
       "      <td>1</td>\n",
       "      <td>0</td>\n",
       "      <td>1</td>\n",
       "      <td>0</td>\n",
       "      <td>0</td>\n",
       "    </tr>\n",
       "    <tr>\n",
       "      <th>1</th>\n",
       "      <td>-0.071836</td>\n",
       "      <td>0.156734</td>\n",
       "      <td>-0.429577</td>\n",
       "      <td>0.466465</td>\n",
       "      <td>0.257140</td>\n",
       "      <td>-0.482512</td>\n",
       "      <td>0.789741</td>\n",
       "      <td>-0.318683</td>\n",
       "      <td>0.311725</td>\n",
       "      <td>-0.060731</td>\n",
       "      <td>...</td>\n",
       "      <td>1</td>\n",
       "      <td>0</td>\n",
       "      <td>0</td>\n",
       "      <td>0</td>\n",
       "      <td>0</td>\n",
       "      <td>1</td>\n",
       "      <td>0</td>\n",
       "      <td>1</td>\n",
       "      <td>0</td>\n",
       "      <td>0</td>\n",
       "    </tr>\n",
       "    <tr>\n",
       "      <th>2</th>\n",
       "      <td>0.651479</td>\n",
       "      <td>0.984752</td>\n",
       "      <td>0.830215</td>\n",
       "      <td>-0.313369</td>\n",
       "      <td>-0.627826</td>\n",
       "      <td>0.515013</td>\n",
       "      <td>0.789741</td>\n",
       "      <td>-0.318683</td>\n",
       "      <td>0.311725</td>\n",
       "      <td>0.631726</td>\n",
       "      <td>...</td>\n",
       "      <td>0</td>\n",
       "      <td>0</td>\n",
       "      <td>0</td>\n",
       "      <td>0</td>\n",
       "      <td>0</td>\n",
       "      <td>1</td>\n",
       "      <td>0</td>\n",
       "      <td>1</td>\n",
       "      <td>0</td>\n",
       "      <td>0</td>\n",
       "    </tr>\n",
       "    <tr>\n",
       "      <th>3</th>\n",
       "      <td>0.651479</td>\n",
       "      <td>-1.863632</td>\n",
       "      <td>-0.720298</td>\n",
       "      <td>-0.687324</td>\n",
       "      <td>-0.521734</td>\n",
       "      <td>0.383659</td>\n",
       "      <td>-1.026041</td>\n",
       "      <td>0.296763</td>\n",
       "      <td>1.650307</td>\n",
       "      <td>0.790804</td>\n",
       "      <td>...</td>\n",
       "      <td>0</td>\n",
       "      <td>1</td>\n",
       "      <td>0</td>\n",
       "      <td>0</td>\n",
       "      <td>0</td>\n",
       "      <td>0</td>\n",
       "      <td>0</td>\n",
       "      <td>1</td>\n",
       "      <td>0</td>\n",
       "      <td>0</td>\n",
       "    </tr>\n",
       "    <tr>\n",
       "      <th>4</th>\n",
       "      <td>1.374795</td>\n",
       "      <td>0.951632</td>\n",
       "      <td>0.733308</td>\n",
       "      <td>0.199680</td>\n",
       "      <td>-0.045611</td>\n",
       "      <td>1.299326</td>\n",
       "      <td>0.789741</td>\n",
       "      <td>1.527656</td>\n",
       "      <td>1.650307</td>\n",
       "      <td>1.698485</td>\n",
       "      <td>...</td>\n",
       "      <td>0</td>\n",
       "      <td>0</td>\n",
       "      <td>0</td>\n",
       "      <td>0</td>\n",
       "      <td>0</td>\n",
       "      <td>1</td>\n",
       "      <td>0</td>\n",
       "      <td>1</td>\n",
       "      <td>0</td>\n",
       "      <td>0</td>\n",
       "    </tr>\n",
       "  </tbody>\n",
       "</table>\n",
       "<p>5 rows × 41 columns</p>\n",
       "</div>"
      ],
      "text/plain": [
       "   OverallQual  YearBuilt  YearRemodAdd  TotalBsmtSF  1stFlrSF  GrLivArea  \\\n",
       "0     0.651479   1.050994      0.878668    -0.459303 -0.793434   0.370333   \n",
       "1    -0.071836   0.156734     -0.429577     0.466465  0.257140  -0.482512   \n",
       "2     0.651479   0.984752      0.830215    -0.313369 -0.627826   0.515013   \n",
       "3     0.651479  -1.863632     -0.720298    -0.687324 -0.521734   0.383659   \n",
       "4     1.374795   0.951632      0.733308     0.199680 -0.045611   1.299326   \n",
       "\n",
       "   FullBath  TotRmsAbvGrd  GarageCars  GarageArea  ...  KitchenQual_TA  \\\n",
       "0  0.789741      0.912210    0.311725    0.351000  ...               0   \n",
       "1  0.789741     -0.318683    0.311725   -0.060731  ...               1   \n",
       "2  0.789741     -0.318683    0.311725    0.631726  ...               0   \n",
       "3 -1.026041      0.296763    1.650307    0.790804  ...               0   \n",
       "4  0.789741      1.527656    1.650307    1.698485  ...               0   \n",
       "\n",
       "   SaleCondition_Abnorml  SaleCondition_AdjLand  SaleCondition_Alloca  \\\n",
       "0                      0                      0                     0   \n",
       "1                      0                      0                     0   \n",
       "2                      0                      0                     0   \n",
       "3                      1                      0                     0   \n",
       "4                      0                      0                     0   \n",
       "\n",
       "   SaleCondition_Family  SaleCondition_Normal  SaleCondition_Partial  \\\n",
       "0                     0                     1                      0   \n",
       "1                     0                     1                      0   \n",
       "2                     0                     1                      0   \n",
       "3                     0                     0                      0   \n",
       "4                     0                     1                      0   \n",
       "\n",
       "   LandSlope_Gtl  LandSlope_Mod  LandSlope_Sev  \n",
       "0              1              0              0  \n",
       "1              1              0              0  \n",
       "2              1              0              0  \n",
       "3              1              0              0  \n",
       "4              1              0              0  \n",
       "\n",
       "[5 rows x 41 columns]"
      ]
     },
     "execution_count": 16,
     "metadata": {},
     "output_type": "execute_result"
    }
   ],
   "source": [
    "X.head()"
   ]
  },
  {
   "cell_type": "markdown",
   "id": "cbb4c637",
   "metadata": {
    "papermill": {
     "duration": 0.10743,
     "end_time": "2022-01-07T14:53:13.812158",
     "exception": false,
     "start_time": "2022-01-07T14:53:13.704728",
     "status": "completed"
    },
    "tags": []
   },
   "source": [
    "<h1 style=\"font-family: 'Times New Roman'; letter-spacing: 0.08em;\">Train-Test Split</h1>"
   ]
  },
  {
   "cell_type": "code",
   "execution_count": 17,
   "id": "a7fb6519",
   "metadata": {
    "execution": {
     "iopub.execute_input": "2022-01-07T14:53:14.236626Z",
     "iopub.status.busy": "2022-01-07T14:53:14.235904Z",
     "iopub.status.idle": "2022-01-07T14:53:14.245563Z",
     "shell.execute_reply": "2022-01-07T14:53:14.246040Z",
     "shell.execute_reply.started": "2022-01-07T14:43:34.643423Z"
    },
    "papermill": {
     "duration": 0.117592,
     "end_time": "2022-01-07T14:53:14.246227",
     "exception": false,
     "start_time": "2022-01-07T14:53:14.128635",
     "status": "completed"
    },
    "tags": []
   },
   "outputs": [],
   "source": [
    "X_train, X_test, y_train, y_test = train_test_split(X, y, test_size=0.2, random_state=42)"
   ]
  },
  {
   "cell_type": "markdown",
   "id": "cbadb641",
   "metadata": {
    "papermill": {
     "duration": 0.10377,
     "end_time": "2022-01-07T14:53:14.453616",
     "exception": false,
     "start_time": "2022-01-07T14:53:14.349846",
     "status": "completed"
    },
    "tags": []
   },
   "source": [
    "***Defining several evaluation functions for convenience***"
   ]
  },
  {
   "cell_type": "code",
   "execution_count": 18,
   "id": "c670aec2",
   "metadata": {
    "execution": {
     "iopub.execute_input": "2022-01-07T14:53:14.665704Z",
     "iopub.status.busy": "2022-01-07T14:53:14.664984Z",
     "iopub.status.idle": "2022-01-07T14:53:14.671641Z",
     "shell.execute_reply": "2022-01-07T14:53:14.672142Z",
     "shell.execute_reply.started": "2022-01-07T14:43:34.652584Z"
    },
    "papermill": {
     "duration": 0.115217,
     "end_time": "2022-01-07T14:53:14.672327",
     "exception": false,
     "start_time": "2022-01-07T14:53:14.557110",
     "status": "completed"
    },
    "tags": []
   },
   "outputs": [],
   "source": [
    "def rmse_cv(model):\n",
    "    rmse = np.sqrt(-cross_val_score(model, X, y, scoring=\"neg_mean_squared_error\", cv=5)).mean()\n",
    "    return rmse\n",
    "    \n",
    "\n",
    "def evaluation(y, predictions):\n",
    "    mae = mean_absolute_error(y, predictions)\n",
    "    mse = mean_squared_error(y, predictions)\n",
    "    rmse = np.sqrt(mean_squared_error(y, predictions))\n",
    "    r_squared = r2_score(y, predictions)\n",
    "    return mae, mse, rmse, r_squared"
   ]
  },
  {
   "cell_type": "markdown",
   "id": "af18ea59",
   "metadata": {
    "papermill": {
     "duration": 0.103812,
     "end_time": "2022-01-07T14:53:14.880559",
     "exception": false,
     "start_time": "2022-01-07T14:53:14.776747",
     "status": "completed"
    },
    "tags": []
   },
   "source": [
    "<h1 style=\"font-family: 'Times New Roman'; letter-spacing: 0.08em;\">Machine Learning Models</h1>"
   ]
  },
  {
   "cell_type": "code",
   "execution_count": 19,
   "id": "715304cf",
   "metadata": {
    "execution": {
     "iopub.execute_input": "2022-01-07T14:53:15.101493Z",
     "iopub.status.busy": "2022-01-07T14:53:15.100745Z",
     "iopub.status.idle": "2022-01-07T14:53:15.106737Z",
     "shell.execute_reply": "2022-01-07T14:53:15.107262Z",
     "shell.execute_reply.started": "2022-01-07T14:43:34.665439Z"
    },
    "papermill": {
     "duration": 0.118597,
     "end_time": "2022-01-07T14:53:15.107485",
     "exception": false,
     "start_time": "2022-01-07T14:53:14.988888",
     "status": "completed"
    },
    "tags": []
   },
   "outputs": [],
   "source": [
    "models = pd.DataFrame(columns=[\"Model\",\"Training R2 score\",\"Test R2 score\"])"
   ]
  },
  {
   "cell_type": "markdown",
   "id": "ae0194fa",
   "metadata": {
    "papermill": {
     "duration": 0.108867,
     "end_time": "2022-01-07T14:53:15.322909",
     "exception": false,
     "start_time": "2022-01-07T14:53:15.214042",
     "status": "completed"
    },
    "tags": []
   },
   "source": [
    "<h2 style=\"font-family: 'Times New Roman'; letter-spacing: 0.05em;\">Linear Regression</h2>"
   ]
  },
  {
   "cell_type": "code",
   "execution_count": 20,
   "id": "42a50c67",
   "metadata": {},
   "outputs": [
    {
     "name": "stdout",
     "output_type": "stream",
     "text": [
      "Best Paramter : {'copy_X': True, 'fit_intercept': False, 'normalize': True}\n",
      "Training score : 0.7690130678296001\n",
      "Test score : 0.8155317822983867\n"
     ]
    }
   ],
   "source": [
    "from sklearn.linear_model import LinearRegression\n",
    "\n",
    "model = LinearRegression()\n",
    "kfold = KFold(n_splits=5,shuffle=True,random_state=2021)\n",
    "parameters = {'fit_intercept':[True,False], 'normalize':[True,False], 'copy_X':[True, False]}\n",
    "\n",
    "LRcv = GridSearchCV(estimator=model, param_grid=parameters,cv=kfold,scoring='r2')\n",
    "\n",
    "LRcv.fit(X_train, y_train)\n",
    "\n",
    "print(\"Best Paramter :\",LRcv.best_params_)\n",
    "print(\"Training score :\",LRcv.best_score_)\n",
    "y_pred = LRcv.predict(X_test)\n",
    "print(\"Test score :\",r2_score(y_test, y_pred))\n",
    "\n",
    "new_row = {\"Model\": \"Linear\",\"Training R2 score\":LRcv.best_score_, \"Test R2 score\":r2_score(y_test, y_pred)}\n",
    "models = models.append(new_row, ignore_index=True)"
   ]
  },
  {
   "cell_type": "markdown",
   "id": "69e2cf24",
   "metadata": {
    "papermill": {
     "duration": 0.108289,
     "end_time": "2022-01-07T14:53:15.904370",
     "exception": false,
     "start_time": "2022-01-07T14:53:15.796081",
     "status": "completed"
    },
    "tags": []
   },
   "source": [
    "<h2 style=\"font-family: 'Times New Roman'; letter-spacing: 0.05em;\">Ridge Regression</h2>"
   ]
  },
  {
   "cell_type": "code",
   "execution_count": 21,
   "id": "635e05c8",
   "metadata": {},
   "outputs": [
    {
     "name": "stdout",
     "output_type": "stream",
     "text": [
      "Best Paramter : {'alpha': 10}\n",
      "Training score : 0.771159399532173\n",
      "Test score : 0.8214940666504186\n"
     ]
    }
   ],
   "source": [
    "from sklearn.linear_model import Ridge\n",
    "\n",
    "model = Ridge()\n",
    "kfold = KFold(n_splits=5,shuffle=True,random_state=2021)\n",
    "parameters = {'alpha': [1,0.1,0.01,0.001,0.0001,10]}\n",
    "\n",
    "Rcv = GridSearchCV(estimator=model, param_grid=parameters,cv=kfold,scoring='r2')\n",
    "\n",
    "Rcv.fit(X_train, y_train)\n",
    "\n",
    "print(\"Best Paramter :\",Rcv.best_params_)\n",
    "print(\"Training score :\",Rcv.best_score_)\n",
    "y_pred = Rcv.predict(X_test)\n",
    "print(\"Test score :\",r2_score(y_test, y_pred))\n",
    "\n",
    "new_row = {\"Model\": \"Ridge\",\"Training R2 score\":Rcv.best_score_, \"Test R2 score\":r2_score(y_test, y_pred)}\n",
    "models = models.append(new_row, ignore_index=True)"
   ]
  },
  {
   "cell_type": "markdown",
   "id": "b61ddb50",
   "metadata": {
    "papermill": {
     "duration": 0.103788,
     "end_time": "2022-01-07T14:53:16.470822",
     "exception": false,
     "start_time": "2022-01-07T14:53:16.367034",
     "status": "completed"
    },
    "tags": []
   },
   "source": [
    "<h2 style=\"font-family: 'Times New Roman'; letter-spacing: 0.05em;\">Lasso Regression</h2>"
   ]
  },
  {
   "cell_type": "code",
   "execution_count": 22,
   "id": "77c90006",
   "metadata": {},
   "outputs": [
    {
     "name": "stdout",
     "output_type": "stream",
     "text": [
      "Best Paramter : {'alpha': 10}\n",
      "Training score : 0.7693802330531645\n",
      "Test score : 0.8162634134341906\n"
     ]
    }
   ],
   "source": [
    "from sklearn.linear_model import Lasso\n",
    "\n",
    "model = Lasso()\n",
    "kfold = KFold(n_splits=5,shuffle=True,random_state=2021)\n",
    "parameters ={\"alpha\": [0.0001, 0.001, 0.01, 0.1, 1, 10]}\n",
    "Lcv = GridSearchCV(estimator=model, param_grid=parameters,cv=kfold,scoring='r2')\n",
    "\n",
    "Lcv.fit(X_train, y_train)\n",
    "\n",
    "print(\"Best Paramter :\",Lcv.best_params_)\n",
    "print(\"Training score :\",Lcv.best_score_)\n",
    "y_pred = Lcv.predict(X_test)\n",
    "print(\"Test score :\",r2_score(y_test, y_pred))\n",
    "\n",
    "new_row = {\"Model\": \"Lasso\",\"Training R2 score\":Lcv.best_score_, \"Test R2 score\":r2_score(y_test, y_pred)}\n",
    "models = models.append(new_row, ignore_index=True)"
   ]
  },
  {
   "cell_type": "markdown",
   "id": "845ce0cc",
   "metadata": {
    "papermill": {
     "duration": 0.104269,
     "end_time": "2022-01-07T14:53:17.252397",
     "exception": false,
     "start_time": "2022-01-07T14:53:17.148128",
     "status": "completed"
    },
    "tags": []
   },
   "source": [
    "<h2 style=\"font-family: 'Times New Roman'; letter-spacing: 0.05em;\">Elastic Net</h2>"
   ]
  },
  {
   "cell_type": "code",
   "execution_count": 23,
   "id": "bf76cc15",
   "metadata": {},
   "outputs": [
    {
     "name": "stdout",
     "output_type": "stream",
     "text": [
      "Best Paramter : {'alpha': 0.1}\n",
      "Training score : 0.7714097082456084\n",
      "Test score : 0.8187196919459938\n"
     ]
    }
   ],
   "source": [
    "from sklearn.linear_model import ElasticNet\n",
    "\n",
    "model = ElasticNet()\n",
    "kfold = KFold(n_splits=5,shuffle=True,random_state=2021)\n",
    "parameters = {'alpha': [1,0.1,0.01,0.001,10] }\n",
    "\n",
    "ENcv = GridSearchCV(estimator=model, param_grid=parameters,cv=kfold,scoring='r2')\n",
    "\n",
    "ENcv.fit(X_train, y_train)\n",
    "\n",
    "print(\"Best Paramter :\",ENcv.best_params_)\n",
    "print(\"Training score :\",ENcv.best_score_)\n",
    "y_pred = ENcv.predict(X_test)\n",
    "print(\"Test score :\",r2_score(y_test, y_pred))\n",
    "\n",
    "new_row = {\"Model\": \"Elastic Net\",\"Training R2 score\":ENcv.best_score_, \"Test R2 score\":r2_score(y_test, y_pred)}\n",
    "models = models.append(new_row, ignore_index=True)"
   ]
  },
  {
   "cell_type": "markdown",
   "id": "650436d1",
   "metadata": {},
   "source": [
    "# Decision Tree Regression"
   ]
  },
  {
   "cell_type": "code",
   "execution_count": 24,
   "id": "5ffe0103",
   "metadata": {},
   "outputs": [
    {
     "name": "stdout",
     "output_type": "stream",
     "text": [
      "{'max_depth': 12, 'min_samples_leaf': 10, 'min_samples_split': 11}\n",
      "Training score : 0.7767264901081518\n",
      "Test score : 0.7969839211159119\n"
     ]
    }
   ],
   "source": [
    "from sklearn.tree import DecisionTreeRegressor\n",
    "\n",
    "model = DecisionTreeRegressor()\n",
    "kfold = KFold(n_splits=5,shuffle=True,random_state=2021)\n",
    "#parameters = {'max_depth':[6,8,10],'min_samples_split':[3,5,7],'min_samples_leaf':[3,4,5] }\n",
    "parameters = {'max_depth':[x for x in range(10,20)],\n",
    "              'min_samples_split':[x for x in range(10,16)],\n",
    "              'min_samples_leaf':[x for x in range(8,16)]}\n",
    "DTcv = GridSearchCV(estimator=model, param_grid=parameters,cv=kfold,scoring='r2')\n",
    "\n",
    "DTcv.fit(X_train, y_train)\n",
    "\n",
    "print(DTcv.best_params_)\n",
    "print(\"Training score :\",DTcv.best_score_)\n",
    "y_pred = DTcv.predict(X_test)\n",
    "print(\"Test score :\",r2_score(y_test, y_pred))\n",
    "\n",
    "new_row = {\"Model\": \"DecisionTree\",\"Training R2 score\" :DTcv.best_score_, \"Test R2 score\":r2_score(y_test, y_pred)}\n",
    "models = models.append(new_row, ignore_index=True)"
   ]
  },
  {
   "cell_type": "markdown",
   "id": "948891cb",
   "metadata": {
    "papermill": {
     "duration": 0.108617,
     "end_time": "2022-01-07T14:53:20.300130",
     "exception": false,
     "start_time": "2022-01-07T14:53:20.191513",
     "status": "completed"
    },
    "tags": []
   },
   "source": [
    "<h2 style=\"font-family: 'Times New Roman'; letter-spacing: 0.05em;\">Random Forest Regressor</h2>"
   ]
  },
  {
   "cell_type": "code",
   "execution_count": 25,
   "id": "46e23647",
   "metadata": {},
   "outputs": [
    {
     "name": "stdout",
     "output_type": "stream",
     "text": [
      "{'max_depth': 6, 'min_samples_leaf': 4, 'min_samples_split': 4}\n",
      "Training score : 0.822731878726316\n",
      "Test score : 0.8623429069323136\n"
     ]
    }
   ],
   "source": [
    "from sklearn.ensemble import RandomForestRegressor\n",
    "\n",
    "model = RandomForestRegressor()\n",
    "kfold = KFold(n_splits=5,shuffle=True,random_state=2021)\n",
    "parameters = {'max_depth':[5,6],'min_samples_split':[4,5],'min_samples_leaf':[4,5] }\n",
    "\n",
    "RFcv = GridSearchCV(estimator=model, param_grid=parameters,cv=kfold,scoring='r2')\n",
    "\n",
    "RFcv.fit(X_train, y_train)\n",
    "\n",
    "print(RFcv.best_params_)\n",
    "print(\"Training score :\",RFcv.best_score_)\n",
    "y_pred = RFcv.predict(X_test)\n",
    "print(\"Test score :\",r2_score(y_test, y_pred))\n",
    "\n",
    "new_row = {\"Model\": \"RandomForest\",\"Training R2 score\":RFcv.best_score_, \"Test R2 score\":r2_score(y_test, y_pred)}\n",
    "models = models.append(new_row, ignore_index=True)"
   ]
  },
  {
   "cell_type": "markdown",
   "id": "2acddc94",
   "metadata": {},
   "source": [
    "<h2 style=\"font-family: 'Times New Roman'; letter-spacing: 0.05em;\">KNeighbors Regressor</h2>"
   ]
  },
  {
   "cell_type": "code",
   "execution_count": 26,
   "id": "f5fd3574",
   "metadata": {},
   "outputs": [
    {
     "name": "stdout",
     "output_type": "stream",
     "text": [
      "{'n_neighbors': [2, 4, 6, 8, 10, 12, 14, 16]}\n",
      "{'n_neighbors': 10}\n",
      "Training score : 0.8077133502296917\n",
      "Test score : 0.8422723010040293\n"
     ]
    }
   ],
   "source": [
    "from sklearn.neighbors import KNeighborsRegressor\n",
    "\n",
    "parameters = {'n_neighbors': [2,4,6,8,10,12,14,16]}\n",
    "print(parameters)\n",
    "\n",
    "knn = KNeighborsRegressor()\n",
    "\n",
    "from sklearn.model_selection import KFold\n",
    "kfold = KFold(n_splits=5 , random_state=2022,shuffle=True)\n",
    "\n",
    "KNNcv = GridSearchCV(knn, param_grid=parameters,\n",
    "                  cv=kfold,scoring='r2')\n",
    "KNNcv.fit(X_train, y_train)\n",
    "cv_df = pd.DataFrame(KNNcv.cv_results_  )\n",
    "\n",
    "print(KNNcv.best_params_)\n",
    "print(\"Training score :\",KNNcv.best_score_)\n",
    "y_pred = KNNcv.predict(X_test)\n",
    "print(\"Test score :\",r2_score(y_test, y_pred))\n",
    "\n",
    "new_row = {\"Model\": \"KNNeighbors\",\"Training R2 score\":KNNcv.best_score_, \"Test R2 score\":r2_score(y_test, y_pred)}\n",
    "models = models.append(new_row, ignore_index=True)"
   ]
  },
  {
   "cell_type": "markdown",
   "id": "30323e1b",
   "metadata": {
    "papermill": {
     "duration": 0.109493,
     "end_time": "2022-01-07T14:53:25.860909",
     "exception": false,
     "start_time": "2022-01-07T14:53:25.751416",
     "status": "completed"
    },
    "tags": []
   },
   "source": [
    "<h2 style=\"font-family: 'Times New Roman'; letter-spacing: 0.05em;\">XGBoost Regressor</h2>"
   ]
  },
  {
   "cell_type": "code",
   "execution_count": 27,
   "id": "9ca1360c",
   "metadata": {},
   "outputs": [
    {
     "name": "stdout",
     "output_type": "stream",
     "text": [
      "Fitting 5 folds for each of 18 candidates, totalling 90 fits\n",
      "[CV 1/5] END learning_rate=0.4, max_depth=5, n_estimators=10;, score=0.863 total time=   0.2s\n",
      "[CV 2/5] END learning_rate=0.4, max_depth=5, n_estimators=10;, score=0.823 total time=   0.0s\n",
      "[CV 3/5] END learning_rate=0.4, max_depth=5, n_estimators=10;, score=0.874 total time=   0.0s\n",
      "[CV 4/5] END learning_rate=0.4, max_depth=5, n_estimators=10;, score=0.830 total time=   0.0s\n",
      "[CV 5/5] END learning_rate=0.4, max_depth=5, n_estimators=10;, score=0.729 total time=   0.0s\n",
      "[CV 1/5] END learning_rate=0.4, max_depth=5, n_estimators=15;, score=0.861 total time=   0.0s\n",
      "[CV 2/5] END learning_rate=0.4, max_depth=5, n_estimators=15;, score=0.826 total time=   0.0s\n",
      "[CV 3/5] END learning_rate=0.4, max_depth=5, n_estimators=15;, score=0.869 total time=   0.0s\n",
      "[CV 4/5] END learning_rate=0.4, max_depth=5, n_estimators=15;, score=0.827 total time=   0.0s\n",
      "[CV 5/5] END learning_rate=0.4, max_depth=5, n_estimators=15;, score=0.737 total time=   0.0s\n",
      "[CV 1/5] END learning_rate=0.4, max_depth=6, n_estimators=10;, score=0.855 total time=   0.0s\n",
      "[CV 2/5] END learning_rate=0.4, max_depth=6, n_estimators=10;, score=0.811 total time=   0.0s\n",
      "[CV 3/5] END learning_rate=0.4, max_depth=6, n_estimators=10;, score=0.854 total time=   0.0s\n",
      "[CV 4/5] END learning_rate=0.4, max_depth=6, n_estimators=10;, score=0.816 total time=   0.0s\n",
      "[CV 5/5] END learning_rate=0.4, max_depth=6, n_estimators=10;, score=0.730 total time=   0.0s\n",
      "[CV 1/5] END learning_rate=0.4, max_depth=6, n_estimators=15;, score=0.852 total time=   0.0s\n",
      "[CV 2/5] END learning_rate=0.4, max_depth=6, n_estimators=15;, score=0.795 total time=   0.0s\n",
      "[CV 3/5] END learning_rate=0.4, max_depth=6, n_estimators=15;, score=0.855 total time=   0.0s\n",
      "[CV 4/5] END learning_rate=0.4, max_depth=6, n_estimators=15;, score=0.810 total time=   0.0s\n",
      "[CV 5/5] END learning_rate=0.4, max_depth=6, n_estimators=15;, score=0.735 total time=   0.0s\n",
      "[CV 1/5] END learning_rate=0.4, max_depth=7, n_estimators=10;, score=0.837 total time=   0.0s\n",
      "[CV 2/5] END learning_rate=0.4, max_depth=7, n_estimators=10;, score=0.824 total time=   0.0s\n",
      "[CV 3/5] END learning_rate=0.4, max_depth=7, n_estimators=10;, score=0.870 total time=   0.0s\n",
      "[CV 4/5] END learning_rate=0.4, max_depth=7, n_estimators=10;, score=0.818 total time=   0.0s\n",
      "[CV 5/5] END learning_rate=0.4, max_depth=7, n_estimators=10;, score=0.755 total time=   0.0s\n",
      "[CV 1/5] END learning_rate=0.4, max_depth=7, n_estimators=15;, score=0.834 total time=   0.0s\n",
      "[CV 2/5] END learning_rate=0.4, max_depth=7, n_estimators=15;, score=0.821 total time=   0.0s\n",
      "[CV 3/5] END learning_rate=0.4, max_depth=7, n_estimators=15;, score=0.861 total time=   0.0s\n",
      "[CV 4/5] END learning_rate=0.4, max_depth=7, n_estimators=15;, score=0.814 total time=   0.0s\n",
      "[CV 5/5] END learning_rate=0.4, max_depth=7, n_estimators=15;, score=0.763 total time=   0.0s\n",
      "[CV 1/5] END learning_rate=0.5, max_depth=5, n_estimators=10;, score=0.858 total time=   0.0s\n",
      "[CV 2/5] END learning_rate=0.5, max_depth=5, n_estimators=10;, score=0.826 total time=   0.0s\n",
      "[CV 3/5] END learning_rate=0.5, max_depth=5, n_estimators=10;, score=0.866 total time=   0.0s\n",
      "[CV 4/5] END learning_rate=0.5, max_depth=5, n_estimators=10;, score=0.824 total time=   0.0s\n",
      "[CV 5/5] END learning_rate=0.5, max_depth=5, n_estimators=10;, score=0.740 total time=   0.0s\n",
      "[CV 1/5] END learning_rate=0.5, max_depth=5, n_estimators=15;, score=0.858 total time=   0.0s\n",
      "[CV 2/5] END learning_rate=0.5, max_depth=5, n_estimators=15;, score=0.833 total time=   0.0s\n",
      "[CV 3/5] END learning_rate=0.5, max_depth=5, n_estimators=15;, score=0.868 total time=   0.0s\n",
      "[CV 4/5] END learning_rate=0.5, max_depth=5, n_estimators=15;, score=0.824 total time=   0.0s\n",
      "[CV 5/5] END learning_rate=0.5, max_depth=5, n_estimators=15;, score=0.738 total time=   0.0s\n",
      "[CV 1/5] END learning_rate=0.5, max_depth=6, n_estimators=10;, score=0.843 total time=   0.0s\n",
      "[CV 2/5] END learning_rate=0.5, max_depth=6, n_estimators=10;, score=0.818 total time=   0.0s\n",
      "[CV 3/5] END learning_rate=0.5, max_depth=6, n_estimators=10;, score=0.874 total time=   0.0s\n",
      "[CV 4/5] END learning_rate=0.5, max_depth=6, n_estimators=10;, score=0.813 total time=   0.0s\n",
      "[CV 5/5] END learning_rate=0.5, max_depth=6, n_estimators=10;, score=0.732 total time=   0.0s\n",
      "[CV 1/5] END learning_rate=0.5, max_depth=6, n_estimators=15;, score=0.838 total time=   0.0s\n",
      "[CV 2/5] END learning_rate=0.5, max_depth=6, n_estimators=15;, score=0.815 total time=   0.0s\n",
      "[CV 3/5] END learning_rate=0.5, max_depth=6, n_estimators=15;, score=0.872 total time=   0.0s\n",
      "[CV 4/5] END learning_rate=0.5, max_depth=6, n_estimators=15;, score=0.814 total time=   0.0s\n",
      "[CV 5/5] END learning_rate=0.5, max_depth=6, n_estimators=15;, score=0.731 total time=   0.0s\n",
      "[CV 1/5] END learning_rate=0.5, max_depth=7, n_estimators=10;, score=0.829 total time=   0.0s\n",
      "[CV 2/5] END learning_rate=0.5, max_depth=7, n_estimators=10;, score=0.815 total time=   0.0s\n",
      "[CV 3/5] END learning_rate=0.5, max_depth=7, n_estimators=10;, score=0.852 total time=   0.0s\n",
      "[CV 4/5] END learning_rate=0.5, max_depth=7, n_estimators=10;, score=0.800 total time=   0.0s\n",
      "[CV 5/5] END learning_rate=0.5, max_depth=7, n_estimators=10;, score=0.739 total time=   0.0s\n",
      "[CV 1/5] END learning_rate=0.5, max_depth=7, n_estimators=15;, score=0.825 total time=   0.0s\n",
      "[CV 2/5] END learning_rate=0.5, max_depth=7, n_estimators=15;, score=0.815 total time=   0.0s\n",
      "[CV 3/5] END learning_rate=0.5, max_depth=7, n_estimators=15;, score=0.850 total time=   0.0s\n",
      "[CV 4/5] END learning_rate=0.5, max_depth=7, n_estimators=15;, score=0.800 total time=   0.0s\n",
      "[CV 5/5] END learning_rate=0.5, max_depth=7, n_estimators=15;, score=0.739 total time=   0.0s\n",
      "[CV 1/5] END learning_rate=0.6, max_depth=5, n_estimators=10;, score=0.859 total time=   0.0s\n",
      "[CV 2/5] END learning_rate=0.6, max_depth=5, n_estimators=10;, score=0.806 total time=   0.0s\n",
      "[CV 3/5] END learning_rate=0.6, max_depth=5, n_estimators=10;, score=0.852 total time=   0.0s\n",
      "[CV 4/5] END learning_rate=0.6, max_depth=5, n_estimators=10;, score=0.805 total time=   0.0s\n",
      "[CV 5/5] END learning_rate=0.6, max_depth=5, n_estimators=10;, score=0.734 total time=   0.0s\n",
      "[CV 1/5] END learning_rate=0.6, max_depth=5, n_estimators=15;, score=0.857 total time=   0.0s\n",
      "[CV 2/5] END learning_rate=0.6, max_depth=5, n_estimators=15;, score=0.815 total time=   0.0s\n",
      "[CV 3/5] END learning_rate=0.6, max_depth=5, n_estimators=15;, score=0.859 total time=   0.0s\n",
      "[CV 4/5] END learning_rate=0.6, max_depth=5, n_estimators=15;, score=0.809 total time=   0.0s\n",
      "[CV 5/5] END learning_rate=0.6, max_depth=5, n_estimators=15;, score=0.739 total time=   0.0s\n",
      "[CV 1/5] END learning_rate=0.6, max_depth=6, n_estimators=10;, score=0.849 total time=   0.0s\n",
      "[CV 2/5] END learning_rate=0.6, max_depth=6, n_estimators=10;, score=0.816 total time=   0.0s\n",
      "[CV 3/5] END learning_rate=0.6, max_depth=6, n_estimators=10;, score=0.847 total time=   0.0s\n",
      "[CV 4/5] END learning_rate=0.6, max_depth=6, n_estimators=10;, score=0.781 total time=   0.0s\n",
      "[CV 5/5] END learning_rate=0.6, max_depth=6, n_estimators=10;, score=0.727 total time=   0.0s\n",
      "[CV 1/5] END learning_rate=0.6, max_depth=6, n_estimators=15;, score=0.843 total time=   0.0s\n",
      "[CV 2/5] END learning_rate=0.6, max_depth=6, n_estimators=15;, score=0.818 total time=   0.0s\n",
      "[CV 3/5] END learning_rate=0.6, max_depth=6, n_estimators=15;, score=0.846 total time=   0.0s\n",
      "[CV 4/5] END learning_rate=0.6, max_depth=6, n_estimators=15;, score=0.786 total time=   0.0s\n",
      "[CV 5/5] END learning_rate=0.6, max_depth=6, n_estimators=15;, score=0.729 total time=   0.0s\n",
      "[CV 1/5] END learning_rate=0.6, max_depth=7, n_estimators=10;, score=0.825 total time=   0.0s\n",
      "[CV 2/5] END learning_rate=0.6, max_depth=7, n_estimators=10;, score=0.790 total time=   0.0s\n",
      "[CV 3/5] END learning_rate=0.6, max_depth=7, n_estimators=10;, score=0.871 total time=   0.0s\n",
      "[CV 4/5] END learning_rate=0.6, max_depth=7, n_estimators=10;, score=0.787 total time=   0.0s\n",
      "[CV 5/5] END learning_rate=0.6, max_depth=7, n_estimators=10;, score=0.721 total time=   0.0s\n",
      "[CV 1/5] END learning_rate=0.6, max_depth=7, n_estimators=15;, score=0.821 total time=   0.0s\n",
      "[CV 2/5] END learning_rate=0.6, max_depth=7, n_estimators=15;, score=0.790 total time=   0.0s\n"
     ]
    },
    {
     "name": "stdout",
     "output_type": "stream",
     "text": [
      "[CV 3/5] END learning_rate=0.6, max_depth=7, n_estimators=15;, score=0.871 total time=   0.0s\n",
      "[CV 4/5] END learning_rate=0.6, max_depth=7, n_estimators=15;, score=0.788 total time=   0.0s\n",
      "[CV 5/5] END learning_rate=0.6, max_depth=7, n_estimators=15;, score=0.721 total time=   0.0s\n",
      "{'learning_rate': 0.5, 'max_depth': 5, 'n_estimators': 15}\n",
      "Training score : 0.8241993105379997\n",
      "Test score : 0.8899611057220916\n"
     ]
    }
   ],
   "source": [
    "from xgboost import XGBRegressor\n",
    "\n",
    "xb=XGBRegressor(random_state=2021,use_label_encoder=False)\n",
    "kfold=KFold(n_splits=5,random_state=2021,shuffle=True)\n",
    "parameters={'max_depth':[5,6,7],'n_estimators':[10,15],'learning_rate':[0.4,0.5,0.6]}\n",
    "XGBcv = GridSearchCV(xb, param_grid=parameters,cv=kfold,verbose=3)\n",
    "\n",
    "XGBcv.fit(X_train, y_train)\n",
    "\n",
    "print(XGBcv.best_params_)\n",
    "print(\"Training score :\",XGBcv.best_score_)\n",
    "y_pred = XGBcv.predict(X_test)\n",
    "print(\"Test score :\",r2_score(y_test, y_pred))\n",
    "\n",
    "new_row = {\"Model\": \"XGBRegressor\",\"Training R2 score\":XGBcv.best_score_, \"Test R2 score\":r2_score(y_test, y_pred)}\n",
    "models = models.append(new_row, ignore_index=True)"
   ]
  },
  {
   "cell_type": "markdown",
   "id": "95a4f5b1",
   "metadata": {
    "papermill": {
     "duration": 0.110909,
     "end_time": "2022-01-07T14:53:55.982058",
     "exception": false,
     "start_time": "2022-01-07T14:53:55.871149",
     "status": "completed"
    },
    "tags": []
   },
   "source": [
    "<h1 style=\"font-family: 'Times New Roman'; letter-spacing: 0.08em;\">Model Comparison</h1>"
   ]
  },
  {
   "cell_type": "code",
   "execution_count": 33,
   "id": "da432aa2",
   "metadata": {
    "execution": {
     "iopub.execute_input": "2022-01-07T14:53:56.442625Z",
     "iopub.status.busy": "2022-01-07T14:53:56.432898Z",
     "iopub.status.idle": "2022-01-07T14:53:56.444702Z",
     "shell.execute_reply": "2022-01-07T14:53:56.445302Z",
     "shell.execute_reply.started": "2022-01-07T14:44:08.469751Z"
    },
    "papermill": {
     "duration": 0.129669,
     "end_time": "2022-01-07T14:53:56.445518",
     "exception": false,
     "start_time": "2022-01-07T14:53:56.315849",
     "status": "completed"
    },
    "tags": []
   },
   "outputs": [
    {
     "data": {
      "text/html": [
       "<div>\n",
       "<style scoped>\n",
       "    .dataframe tbody tr th:only-of-type {\n",
       "        vertical-align: middle;\n",
       "    }\n",
       "\n",
       "    .dataframe tbody tr th {\n",
       "        vertical-align: top;\n",
       "    }\n",
       "\n",
       "    .dataframe thead th {\n",
       "        text-align: right;\n",
       "    }\n",
       "</style>\n",
       "<table border=\"1\" class=\"dataframe\">\n",
       "  <thead>\n",
       "    <tr style=\"text-align: right;\">\n",
       "      <th></th>\n",
       "      <th>Model</th>\n",
       "      <th>Training R2 score</th>\n",
       "      <th>Test R2 score</th>\n",
       "    </tr>\n",
       "  </thead>\n",
       "  <tbody>\n",
       "    <tr>\n",
       "      <th>7</th>\n",
       "      <td>XGBRegressor</td>\n",
       "      <td>0.824199</td>\n",
       "      <td>0.889961</td>\n",
       "    </tr>\n",
       "    <tr>\n",
       "      <th>5</th>\n",
       "      <td>RandomForest</td>\n",
       "      <td>0.822732</td>\n",
       "      <td>0.862343</td>\n",
       "    </tr>\n",
       "    <tr>\n",
       "      <th>6</th>\n",
       "      <td>KNNeighbors</td>\n",
       "      <td>0.807713</td>\n",
       "      <td>0.842272</td>\n",
       "    </tr>\n",
       "    <tr>\n",
       "      <th>1</th>\n",
       "      <td>Ridge</td>\n",
       "      <td>0.771159</td>\n",
       "      <td>0.821494</td>\n",
       "    </tr>\n",
       "    <tr>\n",
       "      <th>3</th>\n",
       "      <td>Elastic Net</td>\n",
       "      <td>0.771410</td>\n",
       "      <td>0.818720</td>\n",
       "    </tr>\n",
       "    <tr>\n",
       "      <th>2</th>\n",
       "      <td>Lasso</td>\n",
       "      <td>0.769380</td>\n",
       "      <td>0.816263</td>\n",
       "    </tr>\n",
       "    <tr>\n",
       "      <th>0</th>\n",
       "      <td>Linear</td>\n",
       "      <td>0.769013</td>\n",
       "      <td>0.815532</td>\n",
       "    </tr>\n",
       "    <tr>\n",
       "      <th>4</th>\n",
       "      <td>DecisionTree</td>\n",
       "      <td>0.776726</td>\n",
       "      <td>0.796984</td>\n",
       "    </tr>\n",
       "  </tbody>\n",
       "</table>\n",
       "</div>"
      ],
      "text/plain": [
       "          Model  Training R2 score  Test R2 score\n",
       "7  XGBRegressor           0.824199       0.889961\n",
       "5  RandomForest           0.822732       0.862343\n",
       "6   KNNeighbors           0.807713       0.842272\n",
       "1         Ridge           0.771159       0.821494\n",
       "3   Elastic Net           0.771410       0.818720\n",
       "2         Lasso           0.769380       0.816263\n",
       "0        Linear           0.769013       0.815532\n",
       "4  DecisionTree           0.776726       0.796984"
      ]
     },
     "execution_count": 33,
     "metadata": {},
     "output_type": "execute_result"
    }
   ],
   "source": [
    "a=models.sort_values(by=\"Test R2 score\",ascending=False)\n",
    "a"
   ]
  },
  {
   "cell_type": "code",
   "execution_count": 36,
   "id": "ad2c1e2b",
   "metadata": {},
   "outputs": [
    {
     "data": {
      "image/png": "[encoded data removed]",
      "text/plain": [
       "<Figure size 1152x432 with 1 Axes>"
      ]
     },
     "metadata": {
      "needs_background": "light"
     },
     "output_type": "display_data"
    }
   ],
   "source": [
    "import numpy as np\n",
    "import matplotlib.pyplot as plt\n",
    "\n",
    "X = [\"XGBRegressor\",\"RandomForest\",\"KNNeighbors\",\"DecisionTree\",\"Ridge\",\"Elastic Net\",\"Lasso\",\"Linear\"]\n",
    "Train_Score = a['Training R2 score'].head(200)\n",
    "Test_score = a['Test R2 score'].head(200)\n",
    "\n",
    "X_axis = np.arange(len(X))\n",
    "width = 0.35\n",
    "\n",
    "plt.figure(figsize=(16,6))\n",
    "Train=plt.bar(X_axis - 0.2,Train_Score, 0.4, label = 'Train')\n",
    "Test=plt.bar(X_axis + 0.2,Test_score, 0.4, label = 'Test')\n",
    "\n",
    "plt.xticks(X_axis, X)\n",
    "plt.xlabel(\"Model\")\n",
    "plt.ylabel(\"R2 Score\")\n",
    "plt.title(\"Housing Price Prediction Model Comparision\")\n",
    "\n",
    "plt.bar_label(Train, padding=3)\n",
    "plt.bar_label(Test, padding=3)\n",
    "\n",
    "plt.legend(loc='lower right')\n",
    "plt.show()\n"
   ]
  }
 ],
 "metadata": {
  "kernelspec": {
   "display_name": "Python 3 (ipykernel)",
   "language": "python",
   "name": "python3"
  },
  "language_info": {
   "codemirror_mode": {
    "name": "ipython",
    "version": 3
   },
   "file_extension": ".py",
   "mimetype": "text/x-python",
   "name": "python",
   "nbconvert_exporter": "python",
   "pygments_lexer": "ipython3",
   "version": "3.10.0"
  },
  "papermill": {
   "default_parameters": {},
   "duration": 106.517994,
   "end_time": "2022-01-07T14:53:58.655218",
   "environment_variables": {},
   "exception": null,
   "input_path": "__notebook__.ipynb",
   "output_path": "__notebook__.ipynb",
   "parameters": {},
   "start_time": "2022-01-07T14:52:12.137224",
   "version": "2.3.3"
  }
 },
 "nbformat": 4,
 "nbformat_minor": 5
}
